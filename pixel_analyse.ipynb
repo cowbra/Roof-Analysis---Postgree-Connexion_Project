{
 "cells": [
  {
   "cell_type": "markdown",
   "source": [
    "# Extraction des données"
   ],
   "metadata": {
    "collapsed": false
   }
  },
  {
   "cell_type": "markdown",
   "source": [
    "## 1- Importation des modules de base"
   ],
   "metadata": {
    "collapsed": false
   }
  },
  {
   "cell_type": "code",
   "execution_count": 277,
   "outputs": [],
   "source": [
    "import pandas as pd\n",
    "import numpy as np\n",
    "from sklearn.preprocessing import MinMaxScaler\n",
    "from sklearn.preprocessing import StandardScaler\n",
    "from sklearn.metrics import precision_score, recall_score, confusion_matrix, classification_report, accuracy_score, f1_score\n",
    "\n",
    "from datetime import timedelta\n",
    "from PIL.Image import *\n",
    "import time\n",
    "import seaborn as sns\n",
    "import matplotlib.pyplot as plt\n",
    "import csv"
   ],
   "metadata": {
    "collapsed": false
   }
  },
  {
   "cell_type": "markdown",
   "source": [
    "## 2- Extraction de jeu de données"
   ],
   "metadata": {
    "collapsed": false
   }
  },
  {
   "cell_type": "code",
   "execution_count": 278,
   "outputs": [
    {
     "name": "stdout",
     "output_type": "stream",
     "text": [
      "<class 'pandas.core.frame.DataFrame'>\n",
      "RangeIndex: 2000 entries, 0 to 1999\n",
      "Data columns (total 2 columns):\n",
      " #   Column  Non-Null Count  Dtype \n",
      "---  ------  --------------  ----- \n",
      " 0   ID      2000 non-null   int64 \n",
      " 1   Label   2000 non-null   object\n",
      "dtypes: int64(1), object(1)\n",
      "memory usage: 31.4+ KB\n"
     ]
    }
   ],
   "source": [
    "data = pd.read_csv(\"./ressources/images/batiments.csv\",delimiter = ';', header=None)\n",
    "data.columns = [\"ID\",\"Label\"]\n",
    "data.info()"
   ],
   "metadata": {
    "collapsed": false
   }
  },
  {
   "cell_type": "markdown",
   "source": [
    "# Opération sur les données"
   ],
   "metadata": {
    "collapsed": false
   }
  },
  {
   "cell_type": "markdown",
   "source": [
    "## 1- Répartition des données"
   ],
   "metadata": {
    "collapsed": false
   }
  },
  {
   "cell_type": "code",
   "execution_count": 279,
   "outputs": [
    {
     "data": {
      "text/plain": "<AxesSubplot: xlabel='Label', ylabel='count'>"
     },
     "execution_count": 279,
     "metadata": {},
     "output_type": "execute_result"
    },
    {
     "data": {
      "text/plain": "<Figure size 640x480 with 1 Axes>",
      "image/png": "[encoded data removed]"
     },
     "metadata": {},
     "output_type": "display_data"
    }
   ],
   "source": [
    "sns.countplot(x='Label',data=data,label=\"Nombre\")"
   ],
   "metadata": {
    "collapsed": false
   }
  },
  {
   "cell_type": "markdown",
   "source": [
    "## 2- Ajout de colonnes au dataset avec la moyenne RGB du chunk central de X*X pixels"
   ],
   "metadata": {
    "collapsed": false
   }
  },
  {
   "cell_type": "markdown",
   "source": [
    "###     A. Choix de la taille du chunk central qui sera analysé"
   ],
   "metadata": {
    "collapsed": false
   }
  },
  {
   "cell_type": "code",
   "execution_count": 280,
   "outputs": [],
   "source": [
    "CHUNK_SIZE = 32"
   ],
   "metadata": {
    "collapsed": false
   }
  },
  {
   "cell_type": "code",
   "execution_count": 281,
   "outputs": [],
   "source": [
    "def read_pixel_chunk(chunk_size = 16):\n",
    "    r = []\n",
    "    v = []\n",
    "    b = []\n",
    "    for image in data[\"ID\"]:\n",
    "        im = open(\"./ressources/images/\"+str(image)+\".jpg\")\n",
    "        (rouge, vert, bleu) = (0,0,0)\n",
    "        #On fait la moyenne pour chaque pixel du bloc central de 16x16\n",
    "        for x in range(chunk_size):\n",
    "            for y in range(chunk_size):\n",
    "                (rouge, vert, bleu) = (x + y for x, y in zip((rouge, vert, bleu), im.getpixel(((256-chunk_size)//2+x, (256-chunk_size)//2+y))))\n",
    "        im.close()\n",
    "        (rouge, vert, bleu) = (round(rouge/chunk_size,5), round(vert/chunk_size,5), round(bleu/chunk_size,5))\n",
    "        r.append(rouge)\n",
    "        v.append(vert)\n",
    "        b.append(bleu)\n",
    "    return r,v,b"
   ],
   "metadata": {
    "collapsed": false
   }
  },
  {
   "cell_type": "markdown",
   "source": [
    "On analyse la moyenne RGB du bloc central de 16 par 16 pixels.\n",
    "**Il faut maintenant ajouter ces colonnes au dataset :**"
   ],
   "metadata": {
    "collapsed": false
   }
  },
  {
   "cell_type": "code",
   "execution_count": 282,
   "outputs": [
    {
     "name": "stdout",
     "output_type": "stream",
     "text": [
      "<class 'pandas.core.frame.DataFrame'>\n",
      "RangeIndex: 2000 entries, 0 to 1999\n",
      "Data columns (total 5 columns):\n",
      " #   Column  Non-Null Count  Dtype  \n",
      "---  ------  --------------  -----  \n",
      " 0   ID      2000 non-null   int64  \n",
      " 1   Label   2000 non-null   object \n",
      " 2   rouge   2000 non-null   float64\n",
      " 3   vert    2000 non-null   float64\n",
      " 4   bleu    2000 non-null   float64\n",
      "dtypes: float64(3), int64(1), object(1)\n",
      "memory usage: 78.2+ KB\n"
     ]
    }
   ],
   "source": [
    "results = read_pixel_chunk(CHUNK_SIZE)\n",
    "data[\"rouge\"] = results[0]\n",
    "data[\"vert\"] = results[1]\n",
    "data[\"bleu\"] = results[2]\n",
    "data.info()"
   ],
   "metadata": {
    "collapsed": false
   }
  },
  {
   "cell_type": "markdown",
   "source": [
    "## 3- Optimisation et Pre-Processing"
   ],
   "metadata": {
    "collapsed": false
   }
  },
  {
   "cell_type": "markdown",
   "source": [
    "###     A. Normalisation des données\n"
   ],
   "metadata": {
    "collapsed": false
   }
  },
  {
   "cell_type": "code",
   "execution_count": 283,
   "outputs": [],
   "source": [
    "def scaling():\n",
    "    scaler = MinMaxScaler()\n",
    "    data[['rouge','vert','bleu']] = scaler.fit_transform(data[['rouge','vert','bleu']])\n",
    "#scaling()\n",
    "#data"
   ],
   "metadata": {
    "collapsed": false
   }
  },
  {
   "cell_type": "markdown",
   "source": [
    "###     B. Standardization"
   ],
   "metadata": {
    "collapsed": false
   }
  },
  {
   "cell_type": "markdown",
   "source": [
    "Les variables R,G et B ont une moyenne de 0  et une variance de 1 --> Permet d'éliminer les résultats aberrants"
   ],
   "metadata": {
    "collapsed": false
   }
  },
  {
   "cell_type": "code",
   "execution_count": 284,
   "outputs": [],
   "source": [
    "def standardize():\n",
    "    std_scaler = StandardScaler()\n",
    "    data[['rouge','vert','bleu']] = std_scaler.fit_transform(data[['rouge','vert','bleu']])\n",
    "#standardize()\n",
    "#data"
   ],
   "metadata": {
    "collapsed": false
   }
  },
  {
   "cell_type": "markdown",
   "source": [
    "## 4- Création des dataset"
   ],
   "metadata": {
    "collapsed": false
   }
  },
  {
   "cell_type": "markdown",
   "source": [
    "On va sélectionner aléatoirement 75% d'individus de chaque matériau pour créer le jeu d'apprentissage et les 25% restants serviront à tester notre modèle."
   ],
   "metadata": {
    "collapsed": false
   }
  },
  {
   "cell_type": "code",
   "execution_count": 285,
   "outputs": [],
   "source": [
    "data_tuiles = data[data['Label']== 'Tuiles' ]\n",
    "data_zinc = data[data['Label']== 'Zinc Aluminium' ]\n",
    "data_ardoises = data[data['Label']== 'Ardoises' ]\n",
    "data_beton = data[data['Label']== 'Beton' ]"
   ],
   "metadata": {
    "collapsed": false
   }
  },
  {
   "cell_type": "code",
   "execution_count": 286,
   "outputs": [],
   "source": [
    "learning_df = pd.concat([data_tuiles.sample(frac=0.75, random_state=1),data_zinc.sample(frac=0.75, random_state=1),data_ardoises.sample(frac=0.75, random_state=1),data_beton.sample(frac=0.75, random_state=1)] , ignore_index=True)\n",
    "test_df = data.drop(learning_df.index)"
   ],
   "metadata": {
    "collapsed": false
   }
  },
  {
   "cell_type": "code",
   "execution_count": 287,
   "outputs": [
    {
     "name": "stdout",
     "output_type": "stream",
     "text": [
      "<class 'pandas.core.frame.DataFrame'>\n",
      "RangeIndex: 1500 entries, 0 to 1499\n",
      "Data columns (total 5 columns):\n",
      " #   Column  Non-Null Count  Dtype  \n",
      "---  ------  --------------  -----  \n",
      " 0   ID      1500 non-null   int64  \n",
      " 1   Label   1500 non-null   object \n",
      " 2   rouge   1500 non-null   float64\n",
      " 3   vert    1500 non-null   float64\n",
      " 4   bleu    1500 non-null   float64\n",
      "dtypes: float64(3), int64(1), object(1)\n",
      "memory usage: 58.7+ KB\n"
     ]
    }
   ],
   "source": [
    "learning_df.info()"
   ],
   "metadata": {
    "collapsed": false
   }
  },
  {
   "cell_type": "markdown",
   "source": [
    "# Algorithme"
   ],
   "metadata": {
    "collapsed": false
   }
  },
  {
   "cell_type": "markdown",
   "source": [
    "## 1- Analyse des composantes RGB de chaque matériau de learning dataset"
   ],
   "metadata": {
    "collapsed": false
   }
  },
  {
   "cell_type": "markdown",
   "source": [
    "On fait la moyenne RGB de chaque type de matériau pour avoir une estimation des composantes de ce dernier."
   ],
   "metadata": {
    "collapsed": false
   }
  },
  {
   "cell_type": "code",
   "execution_count": 288,
   "outputs": [],
   "source": [
    "def avg_materiau():\n",
    "    learning_tuiles = learning_df[learning_df['Label']== 'Tuiles' ]\n",
    "    learning_zinc = learning_df[learning_df['Label']== 'Zinc Aluminium' ]\n",
    "    learning_ardoises = learning_df[learning_df['Label']== 'Ardoises' ]\n",
    "    learning_beton = learning_df[learning_df['Label']== 'Beton' ]\n",
    "\n",
    "    avg_tuile = [learning_tuiles[\"rouge\"].mean(),learning_tuiles[\"vert\"].mean(),learning_tuiles[\"bleu\"].mean()]\n",
    "    avg_zinc = [learning_zinc[\"rouge\"].mean(),learning_zinc[\"vert\"].mean(),learning_zinc[\"bleu\"].mean()]\n",
    "    avg_ardoise = [learning_ardoises[\"rouge\"].mean(),learning_ardoises[\"vert\"].mean(),learning_ardoises[\"bleu\"].mean()]\n",
    "    avg_beton = [learning_beton[\"rouge\"].mean(),learning_beton[\"vert\"].mean(),learning_beton[\"bleu\"].mean()]\n",
    "    print(avg_tuile,avg_zinc,avg_ardoise,avg_beton)\n",
    "    return avg_tuile,avg_zinc,avg_ardoise,avg_beton"
   ],
   "metadata": {
    "collapsed": false
   }
  },
  {
   "cell_type": "markdown",
   "source": [
    "## 2- Prediction du type de toit d'un bâtiment"
   ],
   "metadata": {
    "collapsed": false
   }
  },
  {
   "cell_type": "code",
   "execution_count": 289,
   "outputs": [
    {
     "name": "stdout",
     "output_type": "stream",
     "text": [
      "[5465.2410873440285, 4940.62789661319, 4731.786319073084] [4635.793389423077, 4863.908413461539, 4989.941225961538] [3401.071563225058, 3530.2541328306265, 3868.7702291183296] [4206.415700604839, 4205.210307459677, 4208.40234375]\n"
     ]
    }
   ],
   "source": [
    "avg = avg_materiau()\n",
    "classes = [\"Tuiles\",\"Zinc Aluminium\", \"Ardoises\",\"Beton\"]"
   ],
   "metadata": {
    "collapsed": false
   }
  },
  {
   "cell_type": "code",
   "execution_count": 290,
   "outputs": [],
   "source": [
    "def euclidean_distance(ind_1, ind_2):\n",
    "    ''' Calcule la distance euclidienne entre 2 individus'''\n",
    "    distance = [(a - b)**2 for a, b in zip(ind_1, ind_2)]\n",
    "    distance = np.sqrt(sum(distance))\n",
    "    return distance"
   ],
   "metadata": {
    "collapsed": false
   }
  },
  {
   "cell_type": "code",
   "execution_count": 291,
   "outputs": [],
   "source": [
    "def Type_de_toit_predit(image_a_predire,chunk_size):\n",
    "    image = open(\"./ressources/images/\"+str(image_a_predire)+\".jpg\")\n",
    "    [rouge, vert, bleu] = [0, 0, 0]\n",
    "    # On fait la moyenne pour chaque pixel du bloc central de 16x16\n",
    "    for x in range(chunk_size):\n",
    "        for y in range(chunk_size):\n",
    "            [rouge, vert, bleu] = (x + y for x, y in zip((rouge, vert, bleu), image.getpixel(((256-chunk_size)//2+x, (256-chunk_size)//2+y))))\n",
    "    image.close()\n",
    "    [rouge, vert, bleu] = [round(rouge/chunk_size,5), round(vert/chunk_size,5), round(bleu/chunk_size,5)]\n",
    "\n",
    "    distances = [euclidean_distance([rouge, vert, bleu],i) for i in avg]\n",
    "    return classes[np.argmin(distances)]"
   ],
   "metadata": {
    "collapsed": false
   }
  },
  {
   "cell_type": "markdown",
   "source": [
    "Prédiction du type de toît de l'image à prédire de manière statistique."
   ],
   "metadata": {
    "collapsed": false
   }
  },
  {
   "cell_type": "markdown",
   "source": [
    "## 3- Score"
   ],
   "metadata": {
    "collapsed": false
   }
  },
  {
   "cell_type": "code",
   "execution_count": 300,
   "outputs": [],
   "source": [
    "def score(avg,chunk_size=16):\n",
    "    im_prediction = [0,0,0,0]\n",
    "    im_true = [0,0,0,0]\n",
    "    conf_matrix = [[0,0,0,0],\n",
    "                  [0,0,0,0],\n",
    "                  [0,0,0,0],\n",
    "                  [0,0,0,0]]\n",
    "    for image in test_df.index:\n",
    "        # Image test = (ID,type,lien)\n",
    "        identified_as = Type_de_toit_predit(test_df[\"ID\"][image],chunk_size)\n",
    "        # On modifie la matrice de confusion en fonction du resultat\n",
    "        # On classe de cette maniere : beton,tuiles,ardoises,zinc\n",
    "        x,y = classes.index(test_df[\"Label\"][image]),classes.index(identified_as)\n",
    "        im_prediction[y]+=1\n",
    "        im_true[x]+=1\n",
    "\n",
    "        conf_matrix[x][y] += 1\n",
    "\n",
    "    sns.heatmap(conf_matrix, square=True, annot=True, fmt='d')\n",
    "    plt.show()\n",
    "    print(classification_report(im_true, im_prediction, target_names=classes))\n",
    "    return round((conf_matrix[0][0] + conf_matrix[1][1] + conf_matrix[2][2] + conf_matrix[3][3]) / len(test_df) * 100 , 4), conf_matrix"
   ],
   "metadata": {
    "collapsed": false
   }
  },
  {
   "cell_type": "code",
   "execution_count": 301,
   "outputs": [
    {
     "data": {
      "text/plain": "<Figure size 640x480 with 2 Axes>",
      "image/png": "[encoded data removed]"
     },
     "metadata": {},
     "output_type": "display_data"
    },
    {
     "name": "stdout",
     "output_type": "stream",
     "text": [
      "                precision    recall  f1-score   support\n",
      "\n",
      "        Tuiles       0.00      0.00      0.00       0.0\n",
      "Zinc Aluminium       0.00      0.00      0.00       0.0\n",
      "      Ardoises       0.00      0.00      0.00       0.0\n",
      "         Beton       0.00      0.00      0.00       0.0\n",
      "\n",
      "     micro avg       0.00      0.00      0.00       0.0\n",
      "     macro avg       0.00      0.00      0.00       0.0\n",
      "  weighted avg       0.00      0.00      0.00       0.0\n",
      "\n",
      "68.8 %\n"
     ]
    },
    {
     "name": "stderr",
     "output_type": "stream",
     "text": [
      "D:\\Documents\\GitHub\\Roof-Analysis---Postgree-Connexion_Project\\venv\\lib\\site-packages\\numpy\\lib\\arraysetops.py:729: FutureWarning: elementwise comparison failed; returning scalar instead, but in the future will perform elementwise comparison\n",
      "  mask &= (ar1 != a)\n",
      "D:\\Documents\\GitHub\\Roof-Analysis---Postgree-Connexion_Project\\venv\\lib\\site-packages\\numpy\\lib\\arraysetops.py:729: FutureWarning: elementwise comparison failed; returning scalar instead, but in the future will perform elementwise comparison\n",
      "  mask &= (ar1 != a)\n",
      "D:\\Documents\\GitHub\\Roof-Analysis---Postgree-Connexion_Project\\venv\\lib\\site-packages\\numpy\\lib\\arraysetops.py:729: FutureWarning: elementwise comparison failed; returning scalar instead, but in the future will perform elementwise comparison\n",
      "  mask &= (ar1 != a)\n",
      "D:\\Documents\\GitHub\\Roof-Analysis---Postgree-Connexion_Project\\venv\\lib\\site-packages\\numpy\\lib\\arraysetops.py:729: FutureWarning: elementwise comparison failed; returning scalar instead, but in the future will perform elementwise comparison\n",
      "  mask &= (ar1 != a)\n"
     ]
    }
   ],
   "source": [
    "sc = score(avg,CHUNK_SIZE)\n",
    "print(sc[0],\"%\")"
   ],
   "metadata": {
    "collapsed": false
   }
  },
  {
   "cell_type": "code",
   "execution_count": null,
   "outputs": [],
   "source": [],
   "metadata": {
    "collapsed": false
   }
  },
  {
   "cell_type": "code",
   "execution_count": null,
   "outputs": [],
   "source": [],
   "metadata": {
    "collapsed": false
   }
  }
 ],
 "metadata": {
  "kernelspec": {
   "display_name": "Python 3",
   "language": "python",
   "name": "python3"
  },
  "language_info": {
   "codemirror_mode": {
    "name": "ipython",
    "version": 2
   },
   "file_extension": ".py",
   "mimetype": "text/x-python",
   "name": "python",
   "nbconvert_exporter": "python",
   "pygments_lexer": "ipython2",
   "version": "2.7.6"
  }
 },
 "nbformat": 4,
 "nbformat_minor": 0
}
