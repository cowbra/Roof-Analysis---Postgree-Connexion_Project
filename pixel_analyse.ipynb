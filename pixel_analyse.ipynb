{
 "cells": [
  {
   "cell_type": "markdown",
   "source": [
    "# Extraction des données"
   ],
   "metadata": {
    "collapsed": false
   }
  },
  {
   "cell_type": "code",
   "execution_count": 71,
   "outputs": [],
   "source": [],
   "metadata": {
    "collapsed": false
   }
  },
  {
   "cell_type": "markdown",
   "source": [
    "## 1- Importation des modules de base"
   ],
   "metadata": {
    "collapsed": false
   }
  },
  {
   "cell_type": "code",
   "execution_count": 72,
   "outputs": [],
   "source": [
    "import pandas as pd\n",
    "import numpy as np\n",
    "from sklearn.preprocessing import MinMaxScaler\n",
    "from sklearn.preprocessing import StandardScaler\n",
    "from sklearn.metrics import precision_score, recall_score, confusion_matrix, classification_report, accuracy_score, f1_score\n",
    "\n",
    "from datetime import timedelta\n",
    "from PIL.Image import *\n",
    "import time\n",
    "import seaborn as sns\n",
    "import matplotlib.pyplot as plt\n",
    "import csv"
   ],
   "metadata": {
    "collapsed": false
   }
  },
  {
   "cell_type": "markdown",
   "source": [
    "## 2- Extraction de jeu de données"
   ],
   "metadata": {
    "collapsed": false
   }
  },
  {
   "cell_type": "code",
   "execution_count": 73,
   "outputs": [
    {
     "name": "stdout",
     "output_type": "stream",
     "text": [
      "taille init:  2000\n",
      "<class 'pandas.core.frame.DataFrame'>\n",
      "Int64Index: 2000 entries, 450 to 1633\n",
      "Data columns (total 2 columns):\n",
      " #   Column  Non-Null Count  Dtype \n",
      "---  ------  --------------  ----- \n",
      " 0   ID      2000 non-null   int64 \n",
      " 1   Label   2000 non-null   object\n",
      "dtypes: int64(1), object(1)\n",
      "memory usage: 46.9+ KB\n"
     ]
    }
   ],
   "source": [
    "def initialize(dataset_size):\n",
    "    data = pd.read_csv(\"./ressources/images/batiments.csv\",delimiter = ';', header=None)\n",
    "    data.columns = [\"ID\",\"Label\"]\n",
    "    #on melange le dataframe\n",
    "    data = data.sample(frac=1)\n",
    "    #delete rows for learning curves\n",
    "    data=data.drop(data.index[dataset_size:])\n",
    "    print(\"taille init: \",len(data))\n",
    "    return data\n",
    "data = initialize(2000)\n",
    "data.info()"
   ],
   "metadata": {
    "collapsed": false
   }
  },
  {
   "cell_type": "markdown",
   "source": [
    "# Opération sur les données"
   ],
   "metadata": {
    "collapsed": false
   }
  },
  {
   "cell_type": "markdown",
   "source": [
    "## 1- Répartition des données"
   ],
   "metadata": {
    "collapsed": false
   }
  },
  {
   "cell_type": "code",
   "execution_count": 74,
   "outputs": [
    {
     "data": {
      "text/plain": "<AxesSubplot: xlabel='Label', ylabel='count'>"
     },
     "execution_count": 74,
     "metadata": {},
     "output_type": "execute_result"
    },
    {
     "data": {
      "text/plain": "<Figure size 640x480 with 1 Axes>",
      "image/png": "[encoded data removed]"
     },
     "metadata": {},
     "output_type": "display_data"
    }
   ],
   "source": [
    "sns.countplot(x='Label',data=data,label=\"Nombre\")"
   ],
   "metadata": {
    "collapsed": false
   }
  },
  {
   "cell_type": "markdown",
   "source": [
    "## 2- Ajout de colonnes au dataset avec la moyenne RGB du chunk central de X*X pixels"
   ],
   "metadata": {
    "collapsed": false
   }
  },
  {
   "cell_type": "markdown",
   "source": [
    "###     A. Choix de la taille du chunk central qui sera analysé"
   ],
   "metadata": {
    "collapsed": false
   }
  },
  {
   "cell_type": "code",
   "execution_count": 75,
   "outputs": [],
   "source": [
    "CHUNK_SIZE = 32"
   ],
   "metadata": {
    "collapsed": false
   }
  },
  {
   "cell_type": "code",
   "execution_count": 76,
   "outputs": [],
   "source": [
    "def read_pixel_chunk(chunk_size = 16,dataset=data):\n",
    "    r = []\n",
    "    v = []\n",
    "    b = []\n",
    "    for image in dataset[\"ID\"]:\n",
    "        im = open(\"./ressources/images/\"+str(image)+\".jpg\")\n",
    "        (rouge, vert, bleu) = (0,0,0)\n",
    "        #On fait la moyenne pour chaque pixel du bloc central de 16x16\n",
    "        for x in range(chunk_size):\n",
    "            for y in range(chunk_size):\n",
    "                (rouge, vert, bleu) = (x + y for x, y in zip((rouge, vert, bleu), im.getpixel(((256-chunk_size)//2+x, (256-chunk_size)//2+y))))\n",
    "        im.close()\n",
    "        (rouge, vert, bleu) = (round(rouge/chunk_size,5), round(vert/chunk_size,5), round(bleu/chunk_size,5))\n",
    "        r.append(rouge)\n",
    "        v.append(vert)\n",
    "        b.append(bleu)\n",
    "    return r,v,b"
   ],
   "metadata": {
    "collapsed": false
   }
  },
  {
   "cell_type": "markdown",
   "source": [
    "On analyse la moyenne RGB du bloc central de 16 par 16 pixels.\n",
    "**Il faut maintenant ajouter ces colonnes au dataset :**"
   ],
   "metadata": {
    "collapsed": false
   }
  },
  {
   "cell_type": "code",
   "execution_count": 77,
   "outputs": [
    {
     "name": "stdout",
     "output_type": "stream",
     "text": [
      "<class 'pandas.core.frame.DataFrame'>\n",
      "Int64Index: 2000 entries, 450 to 1633\n",
      "Data columns (total 5 columns):\n",
      " #   Column  Non-Null Count  Dtype  \n",
      "---  ------  --------------  -----  \n",
      " 0   ID      2000 non-null   int64  \n",
      " 1   Label   2000 non-null   object \n",
      " 2   rouge   2000 non-null   float64\n",
      " 3   vert    2000 non-null   float64\n",
      " 4   bleu    2000 non-null   float64\n",
      "dtypes: float64(3), int64(1), object(1)\n",
      "memory usage: 93.8+ KB\n"
     ]
    }
   ],
   "source": [
    "results = read_pixel_chunk(CHUNK_SIZE)\n",
    "data[\"rouge\"] = results[0]\n",
    "data[\"vert\"] = results[1]\n",
    "data[\"bleu\"] = results[2]\n",
    "data.info()"
   ],
   "metadata": {
    "collapsed": false
   }
  },
  {
   "cell_type": "markdown",
   "source": [
    "## 3- Optimisation et Pre-Processing"
   ],
   "metadata": {
    "collapsed": false
   }
  },
  {
   "cell_type": "markdown",
   "source": [
    "###     A. Normalisation des données\n"
   ],
   "metadata": {
    "collapsed": false
   }
  },
  {
   "cell_type": "code",
   "execution_count": 78,
   "outputs": [],
   "source": [
    "def scaling():\n",
    "    scaler = MinMaxScaler()\n",
    "    data[['rouge','vert','bleu']] = scaler.fit_transform(data[['rouge','vert','bleu']])\n",
    "#scaling()\n",
    "#data"
   ],
   "metadata": {
    "collapsed": false
   }
  },
  {
   "cell_type": "markdown",
   "source": [
    "###     B. Standardization"
   ],
   "metadata": {
    "collapsed": false
   }
  },
  {
   "cell_type": "markdown",
   "source": [
    "Les variables R,G et B ont une moyenne de 0  et une variance de 1 --> Permet d'éliminer les résultats aberrants"
   ],
   "metadata": {
    "collapsed": false
   }
  },
  {
   "cell_type": "code",
   "execution_count": 79,
   "outputs": [],
   "source": [
    "def standardize():\n",
    "    std_scaler = StandardScaler()\n",
    "    data[['rouge','vert','bleu']] = std_scaler.fit_transform(data[['rouge','vert','bleu']])\n",
    "#standardize()\n",
    "#data"
   ],
   "metadata": {
    "collapsed": false
   }
  },
  {
   "cell_type": "markdown",
   "source": [
    "## 4- Création des dataset"
   ],
   "metadata": {
    "collapsed": false
   }
  },
  {
   "cell_type": "markdown",
   "source": [
    "On va sélectionner aléatoirement 75% d'individus de chaque matériau pour créer le jeu d'apprentissage et les 25% restants serviront à tester notre modèle."
   ],
   "metadata": {
    "collapsed": false
   }
  },
  {
   "cell_type": "code",
   "execution_count": 80,
   "outputs": [],
   "source": [
    "def create_datasets(dataset):\n",
    "    data_tuiles = dataset[dataset['Label']== 'Tuiles' ]\n",
    "    data_zinc = dataset[dataset['Label']== 'Zinc Aluminium' ]\n",
    "    data_ardoises = dataset[dataset['Label']== 'Ardoises' ]\n",
    "    data_beton = dataset[dataset['Label']== 'Beton' ]\n",
    "\n",
    "    learning_df = pd.concat([data_tuiles.sample(frac=0.75),data_zinc.sample(frac=0.75),data_ardoises.sample(frac=0.75),data_beton.sample(frac=0.75)] , ignore_index=True)\n",
    "    test_df = dataset.drop(learning_df.index)\n",
    "    return learning_df,test_df"
   ],
   "metadata": {
    "collapsed": false
   }
  },
  {
   "cell_type": "code",
   "execution_count": 81,
   "outputs": [
    {
     "name": "stdout",
     "output_type": "stream",
     "text": [
      "<class 'pandas.core.frame.DataFrame'>\n",
      "RangeIndex: 1500 entries, 0 to 1499\n",
      "Data columns (total 5 columns):\n",
      " #   Column  Non-Null Count  Dtype  \n",
      "---  ------  --------------  -----  \n",
      " 0   ID      1500 non-null   int64  \n",
      " 1   Label   1500 non-null   object \n",
      " 2   rouge   1500 non-null   float64\n",
      " 3   vert    1500 non-null   float64\n",
      " 4   bleu    1500 non-null   float64\n",
      "dtypes: float64(3), int64(1), object(1)\n",
      "memory usage: 58.7+ KB\n"
     ]
    }
   ],
   "source": [
    "learning_df, test_df =create_datasets(data)\n",
    "learning_df.info()"
   ],
   "metadata": {
    "collapsed": false
   }
  },
  {
   "cell_type": "markdown",
   "source": [
    "# Algorithme"
   ],
   "metadata": {
    "collapsed": false
   }
  },
  {
   "cell_type": "markdown",
   "source": [
    "## 1- Analyse des composantes RGB de chaque matériau de learning dataset"
   ],
   "metadata": {
    "collapsed": false
   }
  },
  {
   "cell_type": "markdown",
   "source": [
    "On fait la moyenne RGB de chaque type de matériau pour avoir une estimation des composantes de ce dernier."
   ],
   "metadata": {
    "collapsed": false
   }
  },
  {
   "cell_type": "code",
   "execution_count": 82,
   "outputs": [],
   "source": [
    "def avg_materiau():\n",
    "    learning_tuiles = learning_df[learning_df['Label']== 'Tuiles' ]\n",
    "    learning_zinc = learning_df[learning_df['Label']== 'Zinc Aluminium' ]\n",
    "    learning_ardoises = learning_df[learning_df['Label']== 'Ardoises' ]\n",
    "    learning_beton = learning_df[learning_df['Label']== 'Beton' ]\n",
    "\n",
    "    avg_tuile = [learning_tuiles[\"rouge\"].mean(),learning_tuiles[\"vert\"].mean(),learning_tuiles[\"bleu\"].mean()]\n",
    "    avg_zinc = [learning_zinc[\"rouge\"].mean(),learning_zinc[\"vert\"].mean(),learning_zinc[\"bleu\"].mean()]\n",
    "    avg_ardoise = [learning_ardoises[\"rouge\"].mean(),learning_ardoises[\"vert\"].mean(),learning_ardoises[\"bleu\"].mean()]\n",
    "    avg_beton = [learning_beton[\"rouge\"].mean(),learning_beton[\"vert\"].mean(),learning_beton[\"bleu\"].mean()]\n",
    "    return avg_tuile,avg_zinc,avg_ardoise,avg_beton"
   ],
   "metadata": {
    "collapsed": false
   }
  },
  {
   "cell_type": "markdown",
   "source": [
    "## 2- Prediction du type de toit d'un bâtiment"
   ],
   "metadata": {
    "collapsed": false
   }
  },
  {
   "cell_type": "code",
   "execution_count": 83,
   "outputs": [],
   "source": [
    "avg = avg_materiau()\n",
    "classes = [\"Tuiles\",\"Zinc Aluminium\", \"Ardoises\",\"Beton\"]"
   ],
   "metadata": {
    "collapsed": false
   }
  },
  {
   "cell_type": "code",
   "execution_count": 84,
   "outputs": [],
   "source": [
    "def euclidean_distance(ind_1, ind_2):\n",
    "    ''' Calcule la distance euclidienne entre 2 individus'''\n",
    "    distance = [(a - b)**2 for a, b in zip(ind_1, ind_2)]\n",
    "    distance = np.sqrt(sum(distance))\n",
    "    return distance"
   ],
   "metadata": {
    "collapsed": false
   }
  },
  {
   "cell_type": "code",
   "execution_count": 85,
   "outputs": [],
   "source": [
    "def Type_de_toit_predit(image_a_predire,chunk_size):\n",
    "    image = open(\"./ressources/images/\"+str(image_a_predire)+\".jpg\")\n",
    "    [rouge, vert, bleu] = [0, 0, 0]\n",
    "    # On fait la moyenne pour chaque pixel du bloc central de 16x16\n",
    "    for x in range(chunk_size):\n",
    "        for y in range(chunk_size):\n",
    "            [rouge, vert, bleu] = (x + y for x, y in zip((rouge, vert, bleu), image.getpixel(((256-chunk_size)//2+x, (256-chunk_size)//2+y))))\n",
    "    image.close()\n",
    "    [rouge, vert, bleu] = [round(rouge/chunk_size,5), round(vert/chunk_size,5), round(bleu/chunk_size,5)]\n",
    "\n",
    "    distances = [euclidean_distance([rouge, vert, bleu],i) for i in avg]\n",
    "    return classes[np.argmin(distances)]"
   ],
   "metadata": {
    "collapsed": false
   }
  },
  {
   "cell_type": "markdown",
   "source": [
    "Prédiction du type de toît de l'image à prédire de manière statistique."
   ],
   "metadata": {
    "collapsed": false
   }
  },
  {
   "cell_type": "markdown",
   "source": [
    "## 3- Score"
   ],
   "metadata": {
    "collapsed": false
   }
  },
  {
   "cell_type": "code",
   "execution_count": 86,
   "outputs": [],
   "source": [
    "def score(avg,chunk_size=16):\n",
    "    im_prediction = []\n",
    "    im_true = []\n",
    "    conf_matrix = [[0,0,0,0],\n",
    "                  [0,0,0,0],\n",
    "                  [0,0,0,0],\n",
    "                  [0,0,0,0]]\n",
    "    for image in test_df.index:\n",
    "        # Image test = (ID,type,lien)\n",
    "        identified_as = Type_de_toit_predit(test_df[\"ID\"][image],chunk_size)\n",
    "        # On modifie la matrice de confusion en fonction du resultat\n",
    "        # On classe de cette maniere : beton,tuiles,ardoises,zinc\n",
    "        x,y = classes.index(test_df[\"Label\"][image]),classes.index(identified_as)\n",
    "        im_prediction.append(y)\n",
    "        im_true.append(x)\n",
    "\n",
    "        conf_matrix[x][y] += 1\n",
    "\n",
    "    #sns.heatmap(conf_matrix, square=True, annot=True, fmt='d')\n",
    "    #plt.show()\n",
    "    #print(classification_report(im_true, im_prediction, target_names=classes))\n",
    "    return round((conf_matrix[0][0] + conf_matrix[1][1] + conf_matrix[2][2] + conf_matrix[3][3]) / len(test_df) * 100 , 4)"
   ],
   "metadata": {
    "collapsed": false
   }
  },
  {
   "cell_type": "code",
   "execution_count": 87,
   "outputs": [],
   "source": [
    "#sc = score(avg,CHUNK_SIZE)\n",
    "#print(sc,\"%\")"
   ],
   "metadata": {
    "collapsed": false
   }
  },
  {
   "cell_type": "code",
   "execution_count": 88,
   "outputs": [],
   "source": [
    "def run(CHUNK_SIZE,DATSET_SIZE):\n",
    "    data = initialize(DATSET_SIZE)\n",
    "    print(\"taille dataset : \",len(data))\n",
    "    results = read_pixel_chunk(CHUNK_SIZE,data)\n",
    "    print(\"nb pixels : \",len(results[0]))\n",
    "    data[\"rouge\"] = results[0]\n",
    "    data[\"vert\"] = results[1]\n",
    "    data[\"bleu\"] = results[2]\n",
    "\n",
    "    learning_df, test_df =create_datasets(data)\n",
    "    print(\"learning size and test : \",len(learning_df),len(test_df))\n",
    "    avg = avg_materiau()\n",
    "    sc = score(avg,CHUNK_SIZE)\n",
    "    #print(sc,\"%\")\n",
    "    return sc"
   ],
   "metadata": {
    "collapsed": false
   }
  },
  {
   "cell_type": "code",
   "execution_count": 91,
   "outputs": [
    {
     "name": "stdout",
     "output_type": "stream",
     "text": [
      "taille init:  500\n",
      "taille dataset :  500\n",
      "nb pixels :  500\n"
     ]
    },
    {
     "ename": "KeyError",
     "evalue": "'[0, 1, 2, 3, 5, 6, 7, 9, 10, 11, 12, 15, 16, 17, 18, 20, 21, 22, 24, 26, 27, 28, 29, 30, 31, 32, 33, 34, 35, 36, 37, 38, 40, 44, 46, 50, 51, 52, 54, 57, 59, 60, 61, 62, 63, 64, 66, 67, 68, 70, 71, 72, 73, 77, 78, 80, 81, 82, 84, 85, 86, 88, 89, 91, 92, 93, 94, 95, 96, 97, 98, 99, 100, 102, 104, 105, 108, 109, 110, 111, 112, 113, 114, 115, 117, 118, 119, 120, 121, 123, 124, 126, 127, 128, 129, 130, 131, 132, 133, 135, 136, 137, 138, 140, 141, 142, 143, 144, 145, 147, 148, 149, 151, 154, 155, 156, 157, 158, 160, 161, 164, 165, 166, 168, 169, 170, 171, 172, 174, 175, 176, 177, 181, 182, 183, 184, 185, 186, 187, 188, 190, 191, 192, 193, 194, 195, 196, 200, 201, 203, 206, 208, 209, 211, 213, 214, 215, 216, 217, 218, 219, 220, 221, 222, 223, 224, 225, 226, 227, 228, 229, 230, 231, 232, 233, 234, 236, 237, 238, 239, 240, 241, 243, 245, 247, 248, 249, 250, 251, 255, 256, 258, 259, 260, 262, 263, 264, 265, 266, 267, 268, 270, 271, 272, 273, 274, 276, 277, 278, 279, 280, 281, 283, 284, 286, 287, 288, 293, 294, 295, 296, 297, 299, 300, 301, 303, 304, 305, 306, 307, 308, 309, 310, 311, 312, 313, 314, 315, 318, 319, 320, 321, 322, 324, 325, 326, 328, 329, 330, 331, 332, 334, 336, 337, 338, 340, 341, 342, 343, 345, 346, 347, 348, 349, 350, 351, 352, 353, 354, 357, 359, 360, 361, 362, 363, 365, 366, 367, 368, 369, 370, 371, 372, 373, 374] not found in axis'",
     "output_type": "error",
     "traceback": [
      "\u001B[1;31m---------------------------------------------------------------------------\u001B[0m",
      "\u001B[1;31mKeyError\u001B[0m                                  Traceback (most recent call last)",
      "Cell \u001B[1;32mIn[91], line 1\u001B[0m\n\u001B[1;32m----> 1\u001B[0m \u001B[43mrun\u001B[49m\u001B[43m(\u001B[49m\u001B[38;5;241;43m32\u001B[39;49m\u001B[43m,\u001B[49m\u001B[38;5;241;43m500\u001B[39;49m\u001B[43m)\u001B[49m\n",
      "Cell \u001B[1;32mIn[88], line 10\u001B[0m, in \u001B[0;36mrun\u001B[1;34m(CHUNK_SIZE, DATSET_SIZE)\u001B[0m\n\u001B[0;32m      7\u001B[0m data[\u001B[38;5;124m\"\u001B[39m\u001B[38;5;124mvert\u001B[39m\u001B[38;5;124m\"\u001B[39m] \u001B[38;5;241m=\u001B[39m results[\u001B[38;5;241m1\u001B[39m]\n\u001B[0;32m      8\u001B[0m data[\u001B[38;5;124m\"\u001B[39m\u001B[38;5;124mbleu\u001B[39m\u001B[38;5;124m\"\u001B[39m] \u001B[38;5;241m=\u001B[39m results[\u001B[38;5;241m2\u001B[39m]\n\u001B[1;32m---> 10\u001B[0m learning_df, test_df \u001B[38;5;241m=\u001B[39m\u001B[43mcreate_datasets\u001B[49m\u001B[43m(\u001B[49m\u001B[43mdata\u001B[49m\u001B[43m)\u001B[49m\n\u001B[0;32m     11\u001B[0m \u001B[38;5;28mprint\u001B[39m(\u001B[38;5;124m\"\u001B[39m\u001B[38;5;124mlearning size and test : \u001B[39m\u001B[38;5;124m\"\u001B[39m,\u001B[38;5;28mlen\u001B[39m(learning_df),\u001B[38;5;28mlen\u001B[39m(test_df))\n\u001B[0;32m     12\u001B[0m avg \u001B[38;5;241m=\u001B[39m avg_materiau()\n",
      "Cell \u001B[1;32mIn[80], line 8\u001B[0m, in \u001B[0;36mcreate_datasets\u001B[1;34m(dataset)\u001B[0m\n\u001B[0;32m      5\u001B[0m data_beton \u001B[38;5;241m=\u001B[39m dataset[dataset[\u001B[38;5;124m'\u001B[39m\u001B[38;5;124mLabel\u001B[39m\u001B[38;5;124m'\u001B[39m]\u001B[38;5;241m==\u001B[39m \u001B[38;5;124m'\u001B[39m\u001B[38;5;124mBeton\u001B[39m\u001B[38;5;124m'\u001B[39m ]\n\u001B[0;32m      7\u001B[0m learning_df \u001B[38;5;241m=\u001B[39m pd\u001B[38;5;241m.\u001B[39mconcat([data_tuiles\u001B[38;5;241m.\u001B[39msample(frac\u001B[38;5;241m=\u001B[39m\u001B[38;5;241m0.75\u001B[39m),data_zinc\u001B[38;5;241m.\u001B[39msample(frac\u001B[38;5;241m=\u001B[39m\u001B[38;5;241m0.75\u001B[39m),data_ardoises\u001B[38;5;241m.\u001B[39msample(frac\u001B[38;5;241m=\u001B[39m\u001B[38;5;241m0.75\u001B[39m),data_beton\u001B[38;5;241m.\u001B[39msample(frac\u001B[38;5;241m=\u001B[39m\u001B[38;5;241m0.75\u001B[39m)] , ignore_index\u001B[38;5;241m=\u001B[39m\u001B[38;5;28;01mTrue\u001B[39;00m)\n\u001B[1;32m----> 8\u001B[0m test_df \u001B[38;5;241m=\u001B[39m \u001B[43mdataset\u001B[49m\u001B[38;5;241;43m.\u001B[39;49m\u001B[43mdrop\u001B[49m\u001B[43m(\u001B[49m\u001B[43mlearning_df\u001B[49m\u001B[38;5;241;43m.\u001B[39;49m\u001B[43mindex\u001B[49m\u001B[43m)\u001B[49m\n\u001B[0;32m      9\u001B[0m \u001B[38;5;28;01mreturn\u001B[39;00m learning_df,test_df\n",
      "File \u001B[1;32mD:\\Documents\\GitHub\\Roof-Analysis---Postgree-Connexion_Project\\venv\\lib\\site-packages\\pandas\\util\\_decorators.py:331\u001B[0m, in \u001B[0;36mdeprecate_nonkeyword_arguments.<locals>.decorate.<locals>.wrapper\u001B[1;34m(*args, **kwargs)\u001B[0m\n\u001B[0;32m    325\u001B[0m \u001B[38;5;28;01mif\u001B[39;00m \u001B[38;5;28mlen\u001B[39m(args) \u001B[38;5;241m>\u001B[39m num_allow_args:\n\u001B[0;32m    326\u001B[0m     warnings\u001B[38;5;241m.\u001B[39mwarn(\n\u001B[0;32m    327\u001B[0m         msg\u001B[38;5;241m.\u001B[39mformat(arguments\u001B[38;5;241m=\u001B[39m_format_argument_list(allow_args)),\n\u001B[0;32m    328\u001B[0m         \u001B[38;5;167;01mFutureWarning\u001B[39;00m,\n\u001B[0;32m    329\u001B[0m         stacklevel\u001B[38;5;241m=\u001B[39mfind_stack_level(),\n\u001B[0;32m    330\u001B[0m     )\n\u001B[1;32m--> 331\u001B[0m \u001B[38;5;28;01mreturn\u001B[39;00m func(\u001B[38;5;241m*\u001B[39margs, \u001B[38;5;241m*\u001B[39m\u001B[38;5;241m*\u001B[39mkwargs)\n",
      "File \u001B[1;32mD:\\Documents\\GitHub\\Roof-Analysis---Postgree-Connexion_Project\\venv\\lib\\site-packages\\pandas\\core\\frame.py:5396\u001B[0m, in \u001B[0;36mDataFrame.drop\u001B[1;34m(self, labels, axis, index, columns, level, inplace, errors)\u001B[0m\n\u001B[0;32m   5248\u001B[0m \u001B[38;5;129m@deprecate_nonkeyword_arguments\u001B[39m(version\u001B[38;5;241m=\u001B[39m\u001B[38;5;28;01mNone\u001B[39;00m, allowed_args\u001B[38;5;241m=\u001B[39m[\u001B[38;5;124m\"\u001B[39m\u001B[38;5;124mself\u001B[39m\u001B[38;5;124m\"\u001B[39m, \u001B[38;5;124m\"\u001B[39m\u001B[38;5;124mlabels\u001B[39m\u001B[38;5;124m\"\u001B[39m])\n\u001B[0;32m   5249\u001B[0m \u001B[38;5;28;01mdef\u001B[39;00m \u001B[38;5;21mdrop\u001B[39m(  \u001B[38;5;66;03m# type: ignore[override]\u001B[39;00m\n\u001B[0;32m   5250\u001B[0m     \u001B[38;5;28mself\u001B[39m,\n\u001B[1;32m   (...)\u001B[0m\n\u001B[0;32m   5257\u001B[0m     errors: IgnoreRaise \u001B[38;5;241m=\u001B[39m \u001B[38;5;124m\"\u001B[39m\u001B[38;5;124mraise\u001B[39m\u001B[38;5;124m\"\u001B[39m,\n\u001B[0;32m   5258\u001B[0m ) \u001B[38;5;241m-\u001B[39m\u001B[38;5;241m>\u001B[39m DataFrame \u001B[38;5;241m|\u001B[39m \u001B[38;5;28;01mNone\u001B[39;00m:\n\u001B[0;32m   5259\u001B[0m \u001B[38;5;250m    \u001B[39m\u001B[38;5;124;03m\"\"\"\u001B[39;00m\n\u001B[0;32m   5260\u001B[0m \u001B[38;5;124;03m    Drop specified labels from rows or columns.\u001B[39;00m\n\u001B[0;32m   5261\u001B[0m \n\u001B[1;32m   (...)\u001B[0m\n\u001B[0;32m   5394\u001B[0m \u001B[38;5;124;03m            weight  1.0     0.8\u001B[39;00m\n\u001B[0;32m   5395\u001B[0m \u001B[38;5;124;03m    \"\"\"\u001B[39;00m\n\u001B[1;32m-> 5396\u001B[0m     \u001B[38;5;28;01mreturn\u001B[39;00m \u001B[38;5;28;43msuper\u001B[39;49m\u001B[43m(\u001B[49m\u001B[43m)\u001B[49m\u001B[38;5;241;43m.\u001B[39;49m\u001B[43mdrop\u001B[49m\u001B[43m(\u001B[49m\n\u001B[0;32m   5397\u001B[0m \u001B[43m        \u001B[49m\u001B[43mlabels\u001B[49m\u001B[38;5;241;43m=\u001B[39;49m\u001B[43mlabels\u001B[49m\u001B[43m,\u001B[49m\n\u001B[0;32m   5398\u001B[0m \u001B[43m        \u001B[49m\u001B[43maxis\u001B[49m\u001B[38;5;241;43m=\u001B[39;49m\u001B[43maxis\u001B[49m\u001B[43m,\u001B[49m\n\u001B[0;32m   5399\u001B[0m \u001B[43m        \u001B[49m\u001B[43mindex\u001B[49m\u001B[38;5;241;43m=\u001B[39;49m\u001B[43mindex\u001B[49m\u001B[43m,\u001B[49m\n\u001B[0;32m   5400\u001B[0m \u001B[43m        \u001B[49m\u001B[43mcolumns\u001B[49m\u001B[38;5;241;43m=\u001B[39;49m\u001B[43mcolumns\u001B[49m\u001B[43m,\u001B[49m\n\u001B[0;32m   5401\u001B[0m \u001B[43m        \u001B[49m\u001B[43mlevel\u001B[49m\u001B[38;5;241;43m=\u001B[39;49m\u001B[43mlevel\u001B[49m\u001B[43m,\u001B[49m\n\u001B[0;32m   5402\u001B[0m \u001B[43m        \u001B[49m\u001B[43minplace\u001B[49m\u001B[38;5;241;43m=\u001B[39;49m\u001B[43minplace\u001B[49m\u001B[43m,\u001B[49m\n\u001B[0;32m   5403\u001B[0m \u001B[43m        \u001B[49m\u001B[43merrors\u001B[49m\u001B[38;5;241;43m=\u001B[39;49m\u001B[43merrors\u001B[49m\u001B[43m,\u001B[49m\n\u001B[0;32m   5404\u001B[0m \u001B[43m    \u001B[49m\u001B[43m)\u001B[49m\n",
      "File \u001B[1;32mD:\\Documents\\GitHub\\Roof-Analysis---Postgree-Connexion_Project\\venv\\lib\\site-packages\\pandas\\util\\_decorators.py:331\u001B[0m, in \u001B[0;36mdeprecate_nonkeyword_arguments.<locals>.decorate.<locals>.wrapper\u001B[1;34m(*args, **kwargs)\u001B[0m\n\u001B[0;32m    325\u001B[0m \u001B[38;5;28;01mif\u001B[39;00m \u001B[38;5;28mlen\u001B[39m(args) \u001B[38;5;241m>\u001B[39m num_allow_args:\n\u001B[0;32m    326\u001B[0m     warnings\u001B[38;5;241m.\u001B[39mwarn(\n\u001B[0;32m    327\u001B[0m         msg\u001B[38;5;241m.\u001B[39mformat(arguments\u001B[38;5;241m=\u001B[39m_format_argument_list(allow_args)),\n\u001B[0;32m    328\u001B[0m         \u001B[38;5;167;01mFutureWarning\u001B[39;00m,\n\u001B[0;32m    329\u001B[0m         stacklevel\u001B[38;5;241m=\u001B[39mfind_stack_level(),\n\u001B[0;32m    330\u001B[0m     )\n\u001B[1;32m--> 331\u001B[0m \u001B[38;5;28;01mreturn\u001B[39;00m func(\u001B[38;5;241m*\u001B[39margs, \u001B[38;5;241m*\u001B[39m\u001B[38;5;241m*\u001B[39mkwargs)\n",
      "File \u001B[1;32mD:\\Documents\\GitHub\\Roof-Analysis---Postgree-Connexion_Project\\venv\\lib\\site-packages\\pandas\\core\\generic.py:4505\u001B[0m, in \u001B[0;36mNDFrame.drop\u001B[1;34m(self, labels, axis, index, columns, level, inplace, errors)\u001B[0m\n\u001B[0;32m   4503\u001B[0m \u001B[38;5;28;01mfor\u001B[39;00m axis, labels \u001B[38;5;129;01min\u001B[39;00m axes\u001B[38;5;241m.\u001B[39mitems():\n\u001B[0;32m   4504\u001B[0m     \u001B[38;5;28;01mif\u001B[39;00m labels \u001B[38;5;129;01mis\u001B[39;00m \u001B[38;5;129;01mnot\u001B[39;00m \u001B[38;5;28;01mNone\u001B[39;00m:\n\u001B[1;32m-> 4505\u001B[0m         obj \u001B[38;5;241m=\u001B[39m \u001B[43mobj\u001B[49m\u001B[38;5;241;43m.\u001B[39;49m\u001B[43m_drop_axis\u001B[49m\u001B[43m(\u001B[49m\u001B[43mlabels\u001B[49m\u001B[43m,\u001B[49m\u001B[43m \u001B[49m\u001B[43maxis\u001B[49m\u001B[43m,\u001B[49m\u001B[43m \u001B[49m\u001B[43mlevel\u001B[49m\u001B[38;5;241;43m=\u001B[39;49m\u001B[43mlevel\u001B[49m\u001B[43m,\u001B[49m\u001B[43m \u001B[49m\u001B[43merrors\u001B[49m\u001B[38;5;241;43m=\u001B[39;49m\u001B[43merrors\u001B[49m\u001B[43m)\u001B[49m\n\u001B[0;32m   4507\u001B[0m \u001B[38;5;28;01mif\u001B[39;00m inplace:\n\u001B[0;32m   4508\u001B[0m     \u001B[38;5;28mself\u001B[39m\u001B[38;5;241m.\u001B[39m_update_inplace(obj)\n",
      "File \u001B[1;32mD:\\Documents\\GitHub\\Roof-Analysis---Postgree-Connexion_Project\\venv\\lib\\site-packages\\pandas\\core\\generic.py:4546\u001B[0m, in \u001B[0;36mNDFrame._drop_axis\u001B[1;34m(self, labels, axis, level, errors, only_slice)\u001B[0m\n\u001B[0;32m   4544\u001B[0m         new_axis \u001B[38;5;241m=\u001B[39m axis\u001B[38;5;241m.\u001B[39mdrop(labels, level\u001B[38;5;241m=\u001B[39mlevel, errors\u001B[38;5;241m=\u001B[39merrors)\n\u001B[0;32m   4545\u001B[0m     \u001B[38;5;28;01melse\u001B[39;00m:\n\u001B[1;32m-> 4546\u001B[0m         new_axis \u001B[38;5;241m=\u001B[39m \u001B[43maxis\u001B[49m\u001B[38;5;241;43m.\u001B[39;49m\u001B[43mdrop\u001B[49m\u001B[43m(\u001B[49m\u001B[43mlabels\u001B[49m\u001B[43m,\u001B[49m\u001B[43m \u001B[49m\u001B[43merrors\u001B[49m\u001B[38;5;241;43m=\u001B[39;49m\u001B[43merrors\u001B[49m\u001B[43m)\u001B[49m\n\u001B[0;32m   4547\u001B[0m     indexer \u001B[38;5;241m=\u001B[39m axis\u001B[38;5;241m.\u001B[39mget_indexer(new_axis)\n\u001B[0;32m   4549\u001B[0m \u001B[38;5;66;03m# Case for non-unique axis\u001B[39;00m\n\u001B[0;32m   4550\u001B[0m \u001B[38;5;28;01melse\u001B[39;00m:\n",
      "File \u001B[1;32mD:\\Documents\\GitHub\\Roof-Analysis---Postgree-Connexion_Project\\venv\\lib\\site-packages\\pandas\\core\\indexes\\base.py:6977\u001B[0m, in \u001B[0;36mIndex.drop\u001B[1;34m(self, labels, errors)\u001B[0m\n\u001B[0;32m   6975\u001B[0m \u001B[38;5;28;01mif\u001B[39;00m mask\u001B[38;5;241m.\u001B[39many():\n\u001B[0;32m   6976\u001B[0m     \u001B[38;5;28;01mif\u001B[39;00m errors \u001B[38;5;241m!=\u001B[39m \u001B[38;5;124m\"\u001B[39m\u001B[38;5;124mignore\u001B[39m\u001B[38;5;124m\"\u001B[39m:\n\u001B[1;32m-> 6977\u001B[0m         \u001B[38;5;28;01mraise\u001B[39;00m \u001B[38;5;167;01mKeyError\u001B[39;00m(\u001B[38;5;124mf\u001B[39m\u001B[38;5;124m\"\u001B[39m\u001B[38;5;132;01m{\u001B[39;00m\u001B[38;5;28mlist\u001B[39m(labels[mask])\u001B[38;5;132;01m}\u001B[39;00m\u001B[38;5;124m not found in axis\u001B[39m\u001B[38;5;124m\"\u001B[39m)\n\u001B[0;32m   6978\u001B[0m     indexer \u001B[38;5;241m=\u001B[39m indexer[\u001B[38;5;241m~\u001B[39mmask]\n\u001B[0;32m   6979\u001B[0m \u001B[38;5;28;01mreturn\u001B[39;00m \u001B[38;5;28mself\u001B[39m\u001B[38;5;241m.\u001B[39mdelete(indexer)\n",
      "\u001B[1;31mKeyError\u001B[0m: '[0, 1, 2, 3, 5, 6, 7, 9, 10, 11, 12, 15, 16, 17, 18, 20, 21, 22, 24, 26, 27, 28, 29, 30, 31, 32, 33, 34, 35, 36, 37, 38, 40, 44, 46, 50, 51, 52, 54, 57, 59, 60, 61, 62, 63, 64, 66, 67, 68, 70, 71, 72, 73, 77, 78, 80, 81, 82, 84, 85, 86, 88, 89, 91, 92, 93, 94, 95, 96, 97, 98, 99, 100, 102, 104, 105, 108, 109, 110, 111, 112, 113, 114, 115, 117, 118, 119, 120, 121, 123, 124, 126, 127, 128, 129, 130, 131, 132, 133, 135, 136, 137, 138, 140, 141, 142, 143, 144, 145, 147, 148, 149, 151, 154, 155, 156, 157, 158, 160, 161, 164, 165, 166, 168, 169, 170, 171, 172, 174, 175, 176, 177, 181, 182, 183, 184, 185, 186, 187, 188, 190, 191, 192, 193, 194, 195, 196, 200, 201, 203, 206, 208, 209, 211, 213, 214, 215, 216, 217, 218, 219, 220, 221, 222, 223, 224, 225, 226, 227, 228, 229, 230, 231, 232, 233, 234, 236, 237, 238, 239, 240, 241, 243, 245, 247, 248, 249, 250, 251, 255, 256, 258, 259, 260, 262, 263, 264, 265, 266, 267, 268, 270, 271, 272, 273, 274, 276, 277, 278, 279, 280, 281, 283, 284, 286, 287, 288, 293, 294, 295, 296, 297, 299, 300, 301, 303, 304, 305, 306, 307, 308, 309, 310, 311, 312, 313, 314, 315, 318, 319, 320, 321, 322, 324, 325, 326, 328, 329, 330, 331, 332, 334, 336, 337, 338, 340, 341, 342, 343, 345, 346, 347, 348, 349, 350, 351, 352, 353, 354, 357, 359, 360, 361, 362, 363, 365, 366, 367, 368, 369, 370, 371, 372, 373, 374] not found in axis'"
     ]
    }
   ],
   "source": [
    "run(32,500)"
   ],
   "metadata": {
    "collapsed": false
   }
  },
  {
   "cell_type": "code",
   "execution_count": null,
   "outputs": [],
   "source": [
    "def curves(CHUNK_SIZE):\n",
    "    accuracy = []\n",
    "    dataset_sizes = []\n",
    "    for i in range(100,2100,100):\n",
    "        print(i)\n",
    "        run_ = run(CHUNK_SIZE,i)\n",
    "        accuracy.append(run_)\n",
    "        dataset_sizes.append(i)\n",
    "    plt.plot(dataset_sizes,accuracy)\n",
    "    plt.show()"
   ],
   "metadata": {
    "collapsed": false
   }
  },
  {
   "cell_type": "code",
   "execution_count": null,
   "outputs": [],
   "source": [
    "#curves(32)"
   ],
   "metadata": {
    "collapsed": false
   }
  },
  {
   "cell_type": "code",
   "execution_count": null,
   "outputs": [],
   "source": [],
   "metadata": {
    "collapsed": false
   }
  }
 ],
 "metadata": {
  "kernelspec": {
   "display_name": "Python 3",
   "language": "python",
   "name": "python3"
  },
  "language_info": {
   "codemirror_mode": {
    "name": "ipython",
    "version": 2
   },
   "file_extension": ".py",
   "mimetype": "text/x-python",
   "name": "python",
   "nbconvert_exporter": "python",
   "pygments_lexer": "ipython2",
   "version": "2.7.6"
  }
 },
 "nbformat": 4,
 "nbformat_minor": 0
}
