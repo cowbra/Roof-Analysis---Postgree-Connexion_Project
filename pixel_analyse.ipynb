{
 "cells": [
  {
   "cell_type": "markdown",
   "source": [
    "# Extraction des données"
   ],
   "metadata": {
    "collapsed": false
   }
  },
  {
   "cell_type": "code",
   "execution_count": 40,
   "outputs": [],
   "source": [],
   "metadata": {
    "collapsed": false
   }
  },
  {
   "cell_type": "markdown",
   "source": [
    "## 1- Importation des modules de base"
   ],
   "metadata": {
    "collapsed": false
   }
  },
  {
   "cell_type": "code",
   "execution_count": 41,
   "outputs": [],
   "source": [
    "import pandas as pd\n",
    "import numpy as np\n",
    "from sklearn.preprocessing import MinMaxScaler\n",
    "from sklearn.preprocessing import StandardScaler\n",
    "from sklearn.metrics import precision_score, recall_score, confusion_matrix, classification_report, accuracy_score, f1_score\n",
    "\n",
    "from datetime import timedelta\n",
    "from PIL.Image import *\n",
    "import time\n",
    "import seaborn as sns\n",
    "import matplotlib.pyplot as plt\n",
    "import csv"
   ],
   "metadata": {
    "collapsed": false
   }
  },
  {
   "cell_type": "markdown",
   "source": [
    "## 2- Extraction de jeu de données"
   ],
   "metadata": {
    "collapsed": false
   }
  },
  {
   "cell_type": "code",
   "execution_count": 42,
   "outputs": [
    {
     "name": "stdout",
     "output_type": "stream",
     "text": [
      "taille init:  2000\n",
      "<class 'pandas.core.frame.DataFrame'>\n",
      "Int64Index: 2000 entries, 1152 to 1041\n",
      "Data columns (total 2 columns):\n",
      " #   Column  Non-Null Count  Dtype \n",
      "---  ------  --------------  ----- \n",
      " 0   ID      2000 non-null   int64 \n",
      " 1   Label   2000 non-null   object\n",
      "dtypes: int64(1), object(1)\n",
      "memory usage: 46.9+ KB\n"
     ]
    }
   ],
   "source": [
    "def initialize(dataset_size):\n",
    "    data = pd.read_csv(\"./ressources/images/batiments.csv\",delimiter = ';', header=None)\n",
    "    data.columns = [\"ID\",\"Label\"]\n",
    "    #on melange le dataframe\n",
    "    data = data.sample(frac=1)\n",
    "    #delete rows for learning curves\n",
    "    data=data.drop(data.index[dataset_size:])\n",
    "    print(\"taille init: \",len(data))\n",
    "    return data\n",
    "data = initialize(2000)\n",
    "data.info()"
   ],
   "metadata": {
    "collapsed": false
   }
  },
  {
   "cell_type": "markdown",
   "source": [
    "# Opération sur les données"
   ],
   "metadata": {
    "collapsed": false
   }
  },
  {
   "cell_type": "markdown",
   "source": [
    "## 1- Répartition des données"
   ],
   "metadata": {
    "collapsed": false
   }
  },
  {
   "cell_type": "code",
   "execution_count": 43,
   "outputs": [
    {
     "data": {
      "text/plain": "<AxesSubplot: xlabel='Label', ylabel='count'>"
     },
     "execution_count": 43,
     "metadata": {},
     "output_type": "execute_result"
    },
    {
     "data": {
      "text/plain": "<Figure size 640x480 with 1 Axes>",
      "image/png": "[encoded data removed]"
     },
     "metadata": {},
     "output_type": "display_data"
    }
   ],
   "source": [
    "sns.countplot(x='Label',data=data,label=\"Nombre\")"
   ],
   "metadata": {
    "collapsed": false
   }
  },
  {
   "cell_type": "markdown",
   "source": [
    "## 2- Ajout de colonnes au dataset avec la moyenne RGB du chunk central de X*X pixels"
   ],
   "metadata": {
    "collapsed": false
   }
  },
  {
   "cell_type": "markdown",
   "source": [
    "###     A. Choix de la taille du chunk central qui sera analysé"
   ],
   "metadata": {
    "collapsed": false
   }
  },
  {
   "cell_type": "code",
   "execution_count": 44,
   "outputs": [],
   "source": [
    "CHUNK_SIZE = 32"
   ],
   "metadata": {
    "collapsed": false
   }
  },
  {
   "cell_type": "code",
   "execution_count": 45,
   "outputs": [],
   "source": [
    "def read_pixel_chunk(chunk_size = 16,dataset=data):\n",
    "    r = []\n",
    "    v = []\n",
    "    b = []\n",
    "    for image in dataset[\"ID\"]:\n",
    "        im = open(\"./ressources/images/\"+str(image)+\".jpg\")\n",
    "        (rouge, vert, bleu) = (0,0,0)\n",
    "        #On fait la moyenne pour chaque pixel du bloc central de 16x16\n",
    "        for x in range(chunk_size):\n",
    "            for y in range(chunk_size):\n",
    "                (rouge, vert, bleu) = (x + y for x, y in zip((rouge, vert, bleu), im.getpixel(((256-chunk_size)//2+x, (256-chunk_size)//2+y))))\n",
    "        im.close()\n",
    "        (rouge, vert, bleu) = (round(rouge/chunk_size,5), round(vert/chunk_size,5), round(bleu/chunk_size,5))\n",
    "        r.append(rouge)\n",
    "        v.append(vert)\n",
    "        b.append(bleu)\n",
    "    return r,v,b"
   ],
   "metadata": {
    "collapsed": false
   }
  },
  {
   "cell_type": "markdown",
   "source": [
    "On analyse la moyenne RGB du bloc central de 16 par 16 pixels.\n",
    "**Il faut maintenant ajouter ces colonnes au dataset :**"
   ],
   "metadata": {
    "collapsed": false
   }
  },
  {
   "cell_type": "code",
   "execution_count": 46,
   "outputs": [
    {
     "name": "stdout",
     "output_type": "stream",
     "text": [
      "<class 'pandas.core.frame.DataFrame'>\n",
      "Int64Index: 2000 entries, 1152 to 1041\n",
      "Data columns (total 5 columns):\n",
      " #   Column  Non-Null Count  Dtype  \n",
      "---  ------  --------------  -----  \n",
      " 0   ID      2000 non-null   int64  \n",
      " 1   Label   2000 non-null   object \n",
      " 2   rouge   2000 non-null   float64\n",
      " 3   vert    2000 non-null   float64\n",
      " 4   bleu    2000 non-null   float64\n",
      "dtypes: float64(3), int64(1), object(1)\n",
      "memory usage: 93.8+ KB\n"
     ]
    }
   ],
   "source": [
    "results = read_pixel_chunk(CHUNK_SIZE)\n",
    "data[\"rouge\"] = results[0]\n",
    "data[\"vert\"] = results[1]\n",
    "data[\"bleu\"] = results[2]\n",
    "data.info()"
   ],
   "metadata": {
    "collapsed": false
   }
  },
  {
   "cell_type": "markdown",
   "source": [
    "## 3- Optimisation et Pre-Processing"
   ],
   "metadata": {
    "collapsed": false
   }
  },
  {
   "cell_type": "markdown",
   "source": [
    "###     A. Normalisation des données\n"
   ],
   "metadata": {
    "collapsed": false
   }
  },
  {
   "cell_type": "code",
   "execution_count": 47,
   "outputs": [],
   "source": [
    "def scaling():\n",
    "    scaler = MinMaxScaler()\n",
    "    data[['rouge','vert','bleu']] = scaler.fit_transform(data[['rouge','vert','bleu']])\n",
    "#scaling()\n",
    "#data"
   ],
   "metadata": {
    "collapsed": false
   }
  },
  {
   "cell_type": "markdown",
   "source": [
    "###     B. Standardization"
   ],
   "metadata": {
    "collapsed": false
   }
  },
  {
   "cell_type": "markdown",
   "source": [
    "Les variables R,G et B ont une moyenne de 0  et une variance de 1 --> Permet d'éliminer les résultats aberrants"
   ],
   "metadata": {
    "collapsed": false
   }
  },
  {
   "cell_type": "code",
   "execution_count": 48,
   "outputs": [],
   "source": [
    "def standardize():\n",
    "    std_scaler = StandardScaler()\n",
    "    data[['rouge','vert','bleu']] = std_scaler.fit_transform(data[['rouge','vert','bleu']])\n",
    "#standardize()\n",
    "#data"
   ],
   "metadata": {
    "collapsed": false
   }
  },
  {
   "cell_type": "markdown",
   "source": [
    "## 4- Création des dataset"
   ],
   "metadata": {
    "collapsed": false
   }
  },
  {
   "cell_type": "markdown",
   "source": [
    "On va sélectionner aléatoirement 75% d'individus de chaque matériau pour créer le jeu d'apprentissage et les 25% restants serviront à tester notre modèle."
   ],
   "metadata": {
    "collapsed": false
   }
  },
  {
   "cell_type": "code",
   "execution_count": 49,
   "outputs": [],
   "source": [
    "def create_datasets(dataset):\n",
    "    data_tuiles = dataset[dataset['Label']== 'Tuiles' ]\n",
    "    data_zinc = dataset[dataset['Label']== 'Zinc Aluminium' ]\n",
    "    data_ardoises = dataset[dataset['Label']== 'Ardoises' ]\n",
    "    data_beton = dataset[dataset['Label']== 'Beton' ]\n",
    "\n",
    "    learning_df = pd.concat([data_tuiles.sample(frac=0.75),data_zinc.sample(frac=0.75),data_ardoises.sample(frac=0.75),data_beton.sample(frac=0.75)] , ignore_index=True)\n",
    "    test_df = dataset.drop(learning_df.index)\n",
    "    return learning_df,test_df"
   ],
   "metadata": {
    "collapsed": false
   }
  },
  {
   "cell_type": "code",
   "execution_count": 50,
   "outputs": [
    {
     "name": "stdout",
     "output_type": "stream",
     "text": [
      "<class 'pandas.core.frame.DataFrame'>\n",
      "RangeIndex: 1500 entries, 0 to 1499\n",
      "Data columns (total 5 columns):\n",
      " #   Column  Non-Null Count  Dtype  \n",
      "---  ------  --------------  -----  \n",
      " 0   ID      1500 non-null   int64  \n",
      " 1   Label   1500 non-null   object \n",
      " 2   rouge   1500 non-null   float64\n",
      " 3   vert    1500 non-null   float64\n",
      " 4   bleu    1500 non-null   float64\n",
      "dtypes: float64(3), int64(1), object(1)\n",
      "memory usage: 58.7+ KB\n"
     ]
    }
   ],
   "source": [
    "learning_df, test_df =create_datasets(data)\n",
    "learning_df.info()"
   ],
   "metadata": {
    "collapsed": false
   }
  },
  {
   "cell_type": "markdown",
   "source": [
    "# Algorithme"
   ],
   "metadata": {
    "collapsed": false
   }
  },
  {
   "cell_type": "markdown",
   "source": [
    "## 1- Analyse des composantes RGB de chaque matériau de learning dataset"
   ],
   "metadata": {
    "collapsed": false
   }
  },
  {
   "cell_type": "markdown",
   "source": [
    "On fait la moyenne RGB de chaque type de matériau pour avoir une estimation des composantes de ce dernier."
   ],
   "metadata": {
    "collapsed": false
   }
  },
  {
   "cell_type": "code",
   "execution_count": 51,
   "outputs": [],
   "source": [
    "def avg_materiau():\n",
    "    learning_tuiles = learning_df[learning_df['Label']== 'Tuiles' ]\n",
    "    learning_zinc = learning_df[learning_df['Label']== 'Zinc Aluminium' ]\n",
    "    learning_ardoises = learning_df[learning_df['Label']== 'Ardoises' ]\n",
    "    learning_beton = learning_df[learning_df['Label']== 'Beton' ]\n",
    "\n",
    "    avg_tuile = [learning_tuiles[\"rouge\"].mean(),learning_tuiles[\"vert\"].mean(),learning_tuiles[\"bleu\"].mean()]\n",
    "    avg_zinc = [learning_zinc[\"rouge\"].mean(),learning_zinc[\"vert\"].mean(),learning_zinc[\"bleu\"].mean()]\n",
    "    avg_ardoise = [learning_ardoises[\"rouge\"].mean(),learning_ardoises[\"vert\"].mean(),learning_ardoises[\"bleu\"].mean()]\n",
    "    avg_beton = [learning_beton[\"rouge\"].mean(),learning_beton[\"vert\"].mean(),learning_beton[\"bleu\"].mean()]\n",
    "    return avg_tuile,avg_zinc,avg_ardoise,avg_beton"
   ],
   "metadata": {
    "collapsed": false
   }
  },
  {
   "cell_type": "markdown",
   "source": [
    "## 2- Prediction du type de toit d'un bâtiment"
   ],
   "metadata": {
    "collapsed": false
   }
  },
  {
   "cell_type": "code",
   "execution_count": 52,
   "outputs": [],
   "source": [
    "avg = avg_materiau()\n",
    "classes = [\"Tuiles\",\"Zinc Aluminium\", \"Ardoises\",\"Beton\"]"
   ],
   "metadata": {
    "collapsed": false
   }
  },
  {
   "cell_type": "code",
   "execution_count": 53,
   "outputs": [],
   "source": [
    "def euclidean_distance(ind_1, ind_2):\n",
    "    ''' Calcule la distance euclidienne entre 2 individus'''\n",
    "    distance = [(a - b)**2 for a, b in zip(ind_1, ind_2)]\n",
    "    distance = np.sqrt(sum(distance))\n",
    "    return distance"
   ],
   "metadata": {
    "collapsed": false
   }
  },
  {
   "cell_type": "code",
   "execution_count": 54,
   "outputs": [],
   "source": [
    "def Type_de_toit_predit(image_a_predire,chunk_size):\n",
    "    image = open(\"./ressources/images/\"+str(image_a_predire)+\".jpg\")\n",
    "    [rouge, vert, bleu] = [0, 0, 0]\n",
    "    # On fait la moyenne pour chaque pixel du bloc central de 16x16\n",
    "    for x in range(chunk_size):\n",
    "        for y in range(chunk_size):\n",
    "            [rouge, vert, bleu] = (x + y for x, y in zip((rouge, vert, bleu), image.getpixel(((256-chunk_size)//2+x, (256-chunk_size)//2+y))))\n",
    "    image.close()\n",
    "    [rouge, vert, bleu] = [round(rouge/chunk_size,5), round(vert/chunk_size,5), round(bleu/chunk_size,5)]\n",
    "\n",
    "    distances = [euclidean_distance([rouge, vert, bleu],i) for i in avg]\n",
    "    return classes[np.argmin(distances)]"
   ],
   "metadata": {
    "collapsed": false
   }
  },
  {
   "cell_type": "markdown",
   "source": [
    "Prédiction du type de toît de l'image à prédire de manière statistique."
   ],
   "metadata": {
    "collapsed": false
   }
  },
  {
   "cell_type": "markdown",
   "source": [
    "## 3- Score"
   ],
   "metadata": {
    "collapsed": false
   }
  },
  {
   "cell_type": "code",
   "execution_count": 55,
   "outputs": [],
   "source": [
    "def score(avg,chunk_size=16):\n",
    "    im_prediction = []\n",
    "    im_true = []\n",
    "    conf_matrix = [[0,0,0,0],\n",
    "                  [0,0,0,0],\n",
    "                  [0,0,0,0],\n",
    "                  [0,0,0,0]]\n",
    "    for image in test_df.index:\n",
    "        # Image test = (ID,type,lien)\n",
    "        identified_as = Type_de_toit_predit(test_df[\"ID\"][image],chunk_size)\n",
    "        # On modifie la matrice de confusion en fonction du resultat\n",
    "        # On classe de cette maniere : beton,tuiles,ardoises,zinc\n",
    "        x,y = classes.index(test_df[\"Label\"][image]),classes.index(identified_as)\n",
    "        im_prediction.append(y)\n",
    "        im_true.append(x)\n",
    "\n",
    "        conf_matrix[x][y] += 1\n",
    "\n",
    "    #sns.heatmap(conf_matrix, square=True, annot=True, fmt='d')\n",
    "    #plt.show()\n",
    "    print(classification_report(im_true, im_prediction, target_names=classes))\n",
    "    return round((conf_matrix[0][0] + conf_matrix[1][1] + conf_matrix[2][2] + conf_matrix[3][3]) / len(test_df) * 100 , 4)"
   ],
   "metadata": {
    "collapsed": false
   }
  },
  {
   "cell_type": "code",
   "execution_count": 56,
   "outputs": [],
   "source": [
    "#sc = score(avg,CHUNK_SIZE)\n",
    "#print(sc,\"%\")"
   ],
   "metadata": {
    "collapsed": false
   }
  },
  {
   "cell_type": "code",
   "execution_count": 57,
   "outputs": [],
   "source": [
    "def run(CHUNK_SIZE,DATSET_SIZE):\n",
    "    data = initialize(DATSET_SIZE)\n",
    "    print(\"taille dataset : \",len(data))\n",
    "    results = read_pixel_chunk(CHUNK_SIZE,data)\n",
    "    #print(\"nb pixels : \",len(results[0]))\n",
    "    data[\"rouge\"] = results[0]\n",
    "    data[\"vert\"] = results[1]\n",
    "    data[\"bleu\"] = results[2]\n",
    "\n",
    "    learning_df, test_df =create_datasets(data)\n",
    "    print(\"\\nlearning size and test : \",len(learning_df),len(test_df))\n",
    "    avg = avg_materiau()\n",
    "    sc = score(avg,CHUNK_SIZE)\n",
    "    #print(sc,\"%\")\n",
    "    return sc"
   ],
   "metadata": {
    "collapsed": false
   }
  },
  {
   "cell_type": "code",
   "execution_count": 58,
   "outputs": [
    {
     "name": "stdout",
     "output_type": "stream",
     "text": [
      "taille init:  2000\n",
      "taille dataset :  2000\n",
      "\n",
      "learning size and test :  1500 500\n",
      "                precision    recall  f1-score   support\n",
      "\n",
      "        Tuiles       0.87      0.79      0.83       296\n",
      "Zinc Aluminium       0.45      0.41      0.43        37\n",
      "      Ardoises       0.70      0.73      0.71       102\n",
      "         Beton       0.29      0.42      0.34        65\n",
      "\n",
      "      accuracy                           0.70       500\n",
      "     macro avg       0.58      0.59      0.58       500\n",
      "  weighted avg       0.73      0.70      0.71       500\n",
      "\n"
     ]
    },
    {
     "data": {
      "text/plain": "70.2"
     },
     "execution_count": 58,
     "metadata": {},
     "output_type": "execute_result"
    }
   ],
   "source": [
    "run(32,2000)"
   ],
   "metadata": {
    "collapsed": false
   }
  },
  {
   "cell_type": "code",
   "execution_count": 59,
   "outputs": [],
   "source": [
    "def curves(CHUNK_SIZE):\n",
    "    accuracy = []\n",
    "    dataset_sizes = []\n",
    "    for i in range(100,2100,100):\n",
    "        print(i)\n",
    "        run_ = run(CHUNK_SIZE,i)\n",
    "        accuracy.append(run_)\n",
    "        dataset_sizes.append(i)\n",
    "    plt.plot(dataset_sizes,accuracy)\n",
    "    plt.show()"
   ],
   "metadata": {
    "collapsed": false
   }
  },
  {
   "cell_type": "code",
   "execution_count": 60,
   "outputs": [],
   "source": [
    "#curves(32)"
   ],
   "metadata": {
    "collapsed": false
   }
  },
  {
   "cell_type": "code",
   "execution_count": 60,
   "outputs": [],
   "source": [],
   "metadata": {
    "collapsed": false
   }
  }
 ],
 "metadata": {
  "kernelspec": {
   "display_name": "Python 3",
   "language": "python",
   "name": "python3"
  },
  "language_info": {
   "codemirror_mode": {
    "name": "ipython",
    "version": 2
   },
   "file_extension": ".py",
   "mimetype": "text/x-python",
   "name": "python",
   "nbconvert_exporter": "python",
   "pygments_lexer": "ipython2",
   "version": "2.7.6"
  }
 },
 "nbformat": 4,
 "nbformat_minor": 0
}
