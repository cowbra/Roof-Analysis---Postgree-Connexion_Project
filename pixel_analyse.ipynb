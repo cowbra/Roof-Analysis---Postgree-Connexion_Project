{
 "cells": [
  {
   "cell_type": "markdown",
   "source": [
    "# Extraction des données"
   ],
   "metadata": {
    "collapsed": false
   }
  },
  {
   "cell_type": "markdown",
   "source": [],
   "metadata": {
    "collapsed": false
   }
  },
  {
   "cell_type": "code",
   "execution_count": 5,
   "outputs": [],
   "source": [],
   "metadata": {
    "collapsed": false
   }
  },
  {
   "cell_type": "markdown",
   "source": [
    "## 1- Importation des modules de base"
   ],
   "metadata": {
    "collapsed": false
   }
  },
  {
   "cell_type": "code",
   "execution_count": 6,
   "outputs": [],
   "source": [
    "import pandas as pd\n",
    "import numpy as np\n",
    "from math import floor\n",
    "from sklearn.preprocessing import MinMaxScaler\n",
    "from sklearn.preprocessing import StandardScaler\n",
    "from sklearn.model_selection import learning_curve\n",
    "from sklearn.svm import SVC\n",
    "from sklearn.metrics import precision_score, recall_score, confusion_matrix, classification_report, accuracy_score, f1_score\n",
    "\n",
    "from datetime import timedelta\n",
    "from PIL.Image import *\n",
    "import time\n",
    "import seaborn as sns\n",
    "import matplotlib.pyplot as plt\n",
    "import csv"
   ],
   "metadata": {
    "collapsed": false
   }
  },
  {
   "cell_type": "markdown",
   "source": [
    "## 2- Extraction de jeu de données"
   ],
   "metadata": {
    "collapsed": false
   }
  },
  {
   "cell_type": "code",
   "execution_count": 7,
   "outputs": [
    {
     "name": "stdout",
     "output_type": "stream",
     "text": [
      "<class 'pandas.core.frame.DataFrame'>\n",
      "Int64Index: 4000 entries, 17 to 2814\n",
      "Data columns (total 2 columns):\n",
      " #   Column  Non-Null Count  Dtype \n",
      "---  ------  --------------  ----- \n",
      " 0   ID      4000 non-null   int64 \n",
      " 1   Label   4000 non-null   object\n",
      "dtypes: int64(1), object(1)\n",
      "memory usage: 93.8+ KB\n"
     ]
    }
   ],
   "source": [
    "def initialize():\n",
    "    data = pd.read_csv(\"./ressources/images/batiments.csv\",delimiter = ';', header=None)\n",
    "    data.columns = [\"ID\",\"Label\"]\n",
    "    #on melange le dataframe\n",
    "    data = data.sample(frac=1)\n",
    "    #delete rows for learning curves\n",
    "    #print(\"taille init: \",len(data))\n",
    "    return data\n",
    "data = initialize()\n",
    "data.info()"
   ],
   "metadata": {
    "collapsed": false
   }
  },
  {
   "cell_type": "markdown",
   "source": [
    "# Opération sur les données"
   ],
   "metadata": {
    "collapsed": false
   }
  },
  {
   "cell_type": "markdown",
   "source": [
    "## 1- Répartition des données"
   ],
   "metadata": {
    "collapsed": false
   }
  },
  {
   "cell_type": "code",
   "execution_count": 8,
   "outputs": [
    {
     "data": {
      "text/plain": "<AxesSubplot: xlabel='Label', ylabel='count'>"
     },
     "execution_count": 8,
     "metadata": {},
     "output_type": "execute_result"
    },
    {
     "data": {
      "text/plain": "<Figure size 640x480 with 1 Axes>",
      "image/png": "[encoded data removed]"
     },
     "metadata": {},
     "output_type": "display_data"
    }
   ],
   "source": [
    "sns.countplot(x='Label',data=data,label=\"Nombre\")"
   ],
   "metadata": {
    "collapsed": false
   }
  },
  {
   "cell_type": "markdown",
   "source": [
    "## 2- Ajout de colonnes au dataset avec la moyenne RGB du chunk central de X*X pixels"
   ],
   "metadata": {
    "collapsed": false
   }
  },
  {
   "cell_type": "markdown",
   "source": [
    "###     A. Choix de la taille du chunk central qui sera analysé"
   ],
   "metadata": {
    "collapsed": false
   }
  },
  {
   "cell_type": "code",
   "execution_count": 9,
   "outputs": [],
   "source": [
    "CHUNK_SIZE = 32"
   ],
   "metadata": {
    "collapsed": false
   }
  },
  {
   "cell_type": "code",
   "execution_count": 10,
   "outputs": [],
   "source": [
    "def read_pixel_chunk(chunk_size = 16,dataset=data):\n",
    "    r = []\n",
    "    v = []\n",
    "    b = []\n",
    "    for image in dataset[\"ID\"]:\n",
    "        im = open(\"./ressources/images/\"+str(image)+\".jpg\")\n",
    "        (rouge, vert, bleu) = (0,0,0)\n",
    "        #On fait la moyenne pour chaque pixel du bloc central de 16x16\n",
    "        for x in range(chunk_size):\n",
    "            for y in range(chunk_size):\n",
    "                (rouge, vert, bleu) = (x + y for x, y in zip((rouge, vert, bleu), im.getpixel(((256-chunk_size)//2+x, (256-chunk_size)//2+y))))\n",
    "        im.close()\n",
    "        (rouge, vert, bleu) = (round(rouge/chunk_size,5), round(vert/chunk_size,5), round(bleu/chunk_size,5))\n",
    "        r.append(rouge)\n",
    "        v.append(vert)\n",
    "        b.append(bleu)\n",
    "    return r,v,b"
   ],
   "metadata": {
    "collapsed": false
   }
  },
  {
   "cell_type": "markdown",
   "source": [
    "On analyse la moyenne RGB du bloc central de 16 par 16 pixels.\n",
    "**Il faut maintenant ajouter ces colonnes au dataset :**"
   ],
   "metadata": {
    "collapsed": false
   }
  },
  {
   "cell_type": "code",
   "execution_count": 11,
   "outputs": [
    {
     "name": "stdout",
     "output_type": "stream",
     "text": [
      "<class 'pandas.core.frame.DataFrame'>\n",
      "Int64Index: 4000 entries, 17 to 2814\n",
      "Data columns (total 5 columns):\n",
      " #   Column  Non-Null Count  Dtype  \n",
      "---  ------  --------------  -----  \n",
      " 0   ID      4000 non-null   int64  \n",
      " 1   Label   4000 non-null   object \n",
      " 2   rouge   4000 non-null   float64\n",
      " 3   vert    4000 non-null   float64\n",
      " 4   bleu    4000 non-null   float64\n",
      "dtypes: float64(3), int64(1), object(1)\n",
      "memory usage: 187.5+ KB\n"
     ]
    }
   ],
   "source": [
    "results = read_pixel_chunk(CHUNK_SIZE)\n",
    "data[\"rouge\"] = results[0]\n",
    "data[\"vert\"] = results[1]\n",
    "data[\"bleu\"] = results[2]\n",
    "data.info()"
   ],
   "metadata": {
    "collapsed": false
   }
  },
  {
   "cell_type": "markdown",
   "source": [
    "## 4- Création des dataset"
   ],
   "metadata": {
    "collapsed": false
   }
  },
  {
   "cell_type": "markdown",
   "source": [
    "On va sélectionner aléatoirement 75% d'individus de chaque matériau pour créer le jeu d'apprentissage et les 25% restants serviront à tester notre modèle."
   ],
   "metadata": {
    "collapsed": false
   }
  },
  {
   "cell_type": "code",
   "execution_count": 12,
   "outputs": [],
   "source": [
    "def create_datasets(dataset,DATASET_SIZE):\n",
    "    data_tuiles = dataset[dataset['Label']== 'Tuiles' ]\n",
    "    data_zinc = dataset[dataset['Label']== 'Zinc Aluminium' ]\n",
    "    data_ardoises = dataset[dataset['Label']== 'Ardoises' ]\n",
    "    data_beton = dataset[dataset['Label']== 'Beton' ]\n",
    "\n",
    "\n",
    "    #test_df = dataset.drop(learning_df.reset_index().index)\n",
    "    #test_df = dataset.drop(learning_df.index)\n",
    "    test_df = pd.concat([data_tuiles.sample(frac=0.25),data_zinc.sample(frac=0.25),data_ardoises.sample(frac=0.25),data_beton.sample(frac=0.25)] , ignore_index=True)\n",
    "    learning_df = dataset.drop(test_df.index)\n",
    "\n",
    "    taille_max = floor(0.75 * len(dataset))\n",
    "    taille = taille_max if DATASET_SIZE > taille_max else DATASET_SIZE\n",
    "    learning_df = learning_df.iloc[:taille,:]\n",
    "\n",
    "\n",
    "\n",
    "\n",
    "    return learning_df,test_df"
   ],
   "metadata": {
    "collapsed": false
   }
  },
  {
   "cell_type": "code",
   "execution_count": 13,
   "outputs": [
    {
     "name": "stdout",
     "output_type": "stream",
     "text": [
      "<class 'pandas.core.frame.DataFrame'>\n",
      "Int64Index: 2000 entries, 1532 to 2353\n",
      "Data columns (total 5 columns):\n",
      " #   Column  Non-Null Count  Dtype  \n",
      "---  ------  --------------  -----  \n",
      " 0   ID      2000 non-null   int64  \n",
      " 1   Label   2000 non-null   object \n",
      " 2   rouge   2000 non-null   float64\n",
      " 3   vert    2000 non-null   float64\n",
      " 4   bleu    2000 non-null   float64\n",
      "dtypes: float64(3), int64(1), object(1)\n",
      "memory usage: 93.8+ KB\n"
     ]
    }
   ],
   "source": [
    "learning_df, test_df =create_datasets(data,2000)\n",
    "learning_df.info()"
   ],
   "metadata": {
    "collapsed": false
   }
  },
  {
   "cell_type": "markdown",
   "source": [
    "# Algorithme"
   ],
   "metadata": {
    "collapsed": false
   }
  },
  {
   "cell_type": "markdown",
   "source": [
    "## 1- Analyse des composantes RGB de chaque matériau de learning dataset"
   ],
   "metadata": {
    "collapsed": false
   }
  },
  {
   "cell_type": "markdown",
   "source": [
    "On fait la moyenne RGB de chaque type de matériau pour avoir une estimation des composantes de ce dernier."
   ],
   "metadata": {
    "collapsed": false
   }
  },
  {
   "cell_type": "code",
   "execution_count": 14,
   "outputs": [],
   "source": [
    "def avg_materiau(train_dataset):\n",
    "    learning_tuiles = train_dataset[train_dataset['Label']== 'Tuiles' ]\n",
    "    learning_zinc = train_dataset[train_dataset['Label']== 'Zinc Aluminium' ]\n",
    "    learning_ardoises = train_dataset[train_dataset['Label']== 'Ardoises' ]\n",
    "    learning_beton = train_dataset[train_dataset['Label']== 'Beton' ]\n",
    "\n",
    "    avg_tuile = [learning_tuiles[\"rouge\"].mean(),learning_tuiles[\"vert\"].mean(),learning_tuiles[\"bleu\"].mean()]\n",
    "    avg_zinc = [learning_zinc[\"rouge\"].mean(),learning_zinc[\"vert\"].mean(),learning_zinc[\"bleu\"].mean()]\n",
    "    avg_ardoise = [learning_ardoises[\"rouge\"].mean(),learning_ardoises[\"vert\"].mean(),learning_ardoises[\"bleu\"].mean()]\n",
    "    avg_beton = [learning_beton[\"rouge\"].mean(),learning_beton[\"vert\"].mean(),learning_beton[\"bleu\"].mean()]\n",
    "    return avg_tuile,avg_zinc,avg_ardoise,avg_beton"
   ],
   "metadata": {
    "collapsed": false
   }
  },
  {
   "cell_type": "markdown",
   "source": [
    "## 2- Prediction du type de toit d'un bâtiment"
   ],
   "metadata": {
    "collapsed": false
   }
  },
  {
   "cell_type": "code",
   "execution_count": 15,
   "outputs": [],
   "source": [
    "avg = avg_materiau(learning_df)\n",
    "classes = [\"Tuiles\",\"Zinc Aluminium\", \"Ardoises\",\"Beton\"]"
   ],
   "metadata": {
    "collapsed": false
   }
  },
  {
   "cell_type": "code",
   "execution_count": 16,
   "outputs": [],
   "source": [
    "def euclidean_distance(ind_1, ind_2):\n",
    "    ''' Calcule la distance euclidienne entre 2 individus'''\n",
    "    distance = [(a - b)**2 for a, b in zip(ind_1, ind_2)]\n",
    "    distance = np.sqrt(sum(distance))\n",
    "    return distance"
   ],
   "metadata": {
    "collapsed": false
   }
  },
  {
   "cell_type": "code",
   "execution_count": 17,
   "outputs": [],
   "source": [
    "def Type_de_toit_predit(image_a_predire,chunk_size):\n",
    "    image = open(\"./ressources/images/\"+str(image_a_predire)+\".jpg\")\n",
    "    [rouge, vert, bleu] = [0, 0, 0]\n",
    "    # On fait la moyenne pour chaque pixel du bloc central de 16x16\n",
    "    for x in range(chunk_size):\n",
    "        for y in range(chunk_size):\n",
    "            [rouge, vert, bleu] = (x + y for x, y in zip((rouge, vert, bleu), image.getpixel(((256-chunk_size)//2+x, (256-chunk_size)//2+y))))\n",
    "    image.close()\n",
    "    [rouge, vert, bleu] = [round(rouge/chunk_size,5), round(vert/chunk_size,5), round(bleu/chunk_size,5)]\n",
    "\n",
    "    distances = [euclidean_distance([rouge, vert, bleu],i) for i in avg]\n",
    "    return classes[np.argmin(distances)]"
   ],
   "metadata": {
    "collapsed": false
   }
  },
  {
   "cell_type": "markdown",
   "source": [
    "Prédiction du type de toît de l'image à prédire de manière statistique."
   ],
   "metadata": {
    "collapsed": false
   }
  },
  {
   "cell_type": "markdown",
   "source": [
    "## 3- Score"
   ],
   "metadata": {
    "collapsed": false
   }
  },
  {
   "cell_type": "code",
   "execution_count": 18,
   "outputs": [],
   "source": [
    "def score(avg,TEST_dataset,chunk_size=16):\n",
    "    im_prediction = []\n",
    "    im_true = []\n",
    "    conf_matrix = [[0,0,0,0],\n",
    "                  [0,0,0,0],\n",
    "                  [0,0,0,0],\n",
    "                  [0,0,0,0]]\n",
    "    for image in TEST_dataset.index:\n",
    "        # Image test = (ID,type,lien)\n",
    "        identified_as = Type_de_toit_predit(TEST_dataset[\"ID\"][image],chunk_size)\n",
    "        # On modifie la matrice de confusion en fonction du resultat\n",
    "        # On classe de cette maniere : beton,tuiles,ardoises,zinc\n",
    "        x,y = classes.index(TEST_dataset[\"Label\"][image]),classes.index(identified_as)\n",
    "        im_prediction.append(y)\n",
    "        im_true.append(x)\n",
    "\n",
    "        conf_matrix[x][y] += 1\n",
    "\n",
    "    #sns.heatmap(conf_matrix, square=True, annot=True, fmt='d')\n",
    "    #plt.show()\n",
    "    #print(classification_report(im_true, im_prediction, target_names=classes))\n",
    "\n",
    "\n",
    "    return round((conf_matrix[0][0] + conf_matrix[1][1] + conf_matrix[2][2] + conf_matrix[3][3]) / len(TEST_dataset) * 100 , 4)"
   ],
   "metadata": {
    "collapsed": false
   }
  },
  {
   "cell_type": "code",
   "execution_count": 19,
   "outputs": [],
   "source": [
    "#sc = score(avg,test_df,CHUNK_SIZE)\n",
    "#print(sc,\"%\")"
   ],
   "metadata": {
    "collapsed": false
   }
  },
  {
   "cell_type": "code",
   "execution_count": 20,
   "outputs": [],
   "source": [
    "def run(CHUNK_SIZE,DATSET_SIZE):\n",
    "    data = initialize()\n",
    "    #print(\"taille dataset : \",len(data))\n",
    "    results = read_pixel_chunk(CHUNK_SIZE,data)\n",
    "    #print(\"nb pixels : \",len(results[0]))\n",
    "    data[\"rouge\"] = results[0]\n",
    "    data[\"vert\"] = results[1]\n",
    "    data[\"bleu\"] = results[2]\n",
    "\n",
    "    learning_df, test_df =create_datasets(data,DATSET_SIZE)\n",
    "    print(\"\\nlearning size and test size : \",len(learning_df),len(test_df))\n",
    "    avg = avg_materiau(learning_df)\n",
    "\n",
    "    sc_test_score = score(avg,test_df,CHUNK_SIZE)\n",
    "    sc_learning_score = score(avg,learning_df,CHUNK_SIZE)\n",
    "    print(sc_test_score,\"%\")\n",
    "\n",
    "    return sc_test_score,sc_learning_score\n"
   ],
   "metadata": {
    "collapsed": false
   }
  },
  {
   "cell_type": "code",
   "execution_count": 21,
   "outputs": [],
   "source": [
    "#run(32,500)"
   ],
   "metadata": {
    "collapsed": false
   }
  },
  {
   "cell_type": "code",
   "execution_count": 22,
   "outputs": [],
   "source": [
    "def curves(CHUNK_SIZE,h):\n",
    "    dataset_sizes = []\n",
    "    test_score = []\n",
    "    learning_score= []\n",
    "    for i in range(h,(h + round(0.75*2000)),h):\n",
    "        #print(i)\n",
    "        (run_test_score,run_learning_score) = run(CHUNK_SIZE,i)\n",
    "        test_score.append(run_test_score)\n",
    "        learning_score.append(run_learning_score)\n",
    "        dataset_sizes.append(i)\n",
    "    plt.plot(dataset_sizes,test_score,label=\"test score\")\n",
    "    plt.plot(dataset_sizes,learning_score,label=\"learning score\")\n",
    "    plt.ylim([0,100])\n",
    "    plt.title('Learning curves')\n",
    "    plt.legend()\n",
    "    plt.show()"
   ],
   "metadata": {
    "collapsed": false
   }
  },
  {
   "cell_type": "code",
   "execution_count": 23,
   "outputs": [
    {
     "name": "stdout",
     "output_type": "stream",
     "text": [
      "\n",
      "learning size and test size :  25 1000\n",
      "56.7 %\n",
      "\n",
      "learning size and test size :  50 1000\n",
      "54.3 %\n",
      "\n",
      "learning size and test size :  75 1000\n",
      "58.6 %\n",
      "\n",
      "learning size and test size :  100 1000\n",
      "57.9 %\n",
      "\n",
      "learning size and test size :  125 1000\n",
      "56.2 %\n",
      "\n",
      "learning size and test size :  150 1000\n",
      "55.2 %\n",
      "\n",
      "learning size and test size :  175 1000\n",
      "57.8 %\n",
      "\n",
      "learning size and test size :  200 1000\n",
      "57.6 %\n",
      "\n",
      "learning size and test size :  225 1000\n",
      "58.2 %\n",
      "\n",
      "learning size and test size :  250 1000\n",
      "55.7 %\n",
      "\n",
      "learning size and test size :  275 1000\n",
      "60.3 %\n",
      "\n",
      "learning size and test size :  300 1000\n",
      "57.7 %\n",
      "\n",
      "learning size and test size :  325 1000\n",
      "57.6 %\n",
      "\n",
      "learning size and test size :  350 1000\n",
      "58.0 %\n",
      "\n",
      "learning size and test size :  375 1000\n",
      "58.1 %\n",
      "\n",
      "learning size and test size :  400 1000\n",
      "58.0 %\n",
      "\n",
      "learning size and test size :  425 1000\n",
      "57.8 %\n",
      "\n",
      "learning size and test size :  450 1000\n",
      "56.8 %\n",
      "\n",
      "learning size and test size :  475 1000\n",
      "55.7 %\n",
      "\n",
      "learning size and test size :  500 1000\n",
      "56.0 %\n",
      "\n",
      "learning size and test size :  525 1000\n",
      "55.6 %\n",
      "\n",
      "learning size and test size :  550 1000\n",
      "56.2 %\n",
      "\n",
      "learning size and test size :  575 1000\n",
      "59.5 %\n",
      "\n",
      "learning size and test size :  600 1000\n",
      "57.2 %\n",
      "\n",
      "learning size and test size :  625 1000\n",
      "56.4 %\n",
      "\n",
      "learning size and test size :  650 1000\n",
      "57.1 %\n",
      "\n",
      "learning size and test size :  675 1000\n",
      "55.9 %\n",
      "\n",
      "learning size and test size :  700 1000\n",
      "58.4 %\n",
      "\n",
      "learning size and test size :  725 1000\n",
      "58.4 %\n",
      "\n",
      "learning size and test size :  750 1000\n",
      "58.0 %\n",
      "\n",
      "learning size and test size :  775 1000\n",
      "58.1 %\n",
      "\n",
      "learning size and test size :  800 1000\n",
      "55.5 %\n",
      "\n",
      "learning size and test size :  825 1000\n",
      "59.8 %\n",
      "\n",
      "learning size and test size :  850 1000\n",
      "57.1 %\n",
      "\n",
      "learning size and test size :  875 1000\n",
      "57.6 %\n",
      "\n",
      "learning size and test size :  900 1000\n",
      "57.9 %\n",
      "\n",
      "learning size and test size :  925 1000\n",
      "55.0 %\n",
      "\n",
      "learning size and test size :  950 1000\n",
      "60.0 %\n",
      "\n",
      "learning size and test size :  975 1000\n",
      "57.2 %\n",
      "\n",
      "learning size and test size :  1000 1000\n",
      "56.6 %\n",
      "\n",
      "learning size and test size :  1025 1000\n",
      "58.4 %\n",
      "\n",
      "learning size and test size :  1050 1000\n",
      "58.4 %\n",
      "\n",
      "learning size and test size :  1075 1000\n",
      "59.8 %\n",
      "\n",
      "learning size and test size :  1100 1000\n",
      "58.9 %\n",
      "\n",
      "learning size and test size :  1125 1000\n",
      "58.1 %\n",
      "\n",
      "learning size and test size :  1150 1000\n",
      "56.5 %\n",
      "\n",
      "learning size and test size :  1175 1000\n",
      "56.2 %\n",
      "\n",
      "learning size and test size :  1200 1000\n",
      "61.3 %\n",
      "\n",
      "learning size and test size :  1225 1000\n",
      "57.4 %\n",
      "\n",
      "learning size and test size :  1250 1000\n",
      "56.6 %\n",
      "\n",
      "learning size and test size :  1275 1000\n",
      "58.6 %\n",
      "\n",
      "learning size and test size :  1300 1000\n",
      "58.7 %\n",
      "\n",
      "learning size and test size :  1325 1000\n",
      "57.6 %\n",
      "\n",
      "learning size and test size :  1350 1000\n",
      "58.0 %\n",
      "\n",
      "learning size and test size :  1375 1000\n",
      "57.4 %\n",
      "\n",
      "learning size and test size :  1400 1000\n",
      "55.2 %\n",
      "\n",
      "learning size and test size :  1425 1000\n",
      "57.1 %\n",
      "\n",
      "learning size and test size :  1450 1000\n",
      "56.1 %\n",
      "\n",
      "learning size and test size :  1475 1000\n",
      "56.7 %\n",
      "\n",
      "learning size and test size :  1500 1000\n",
      "57.0 %\n"
     ]
    },
    {
     "data": {
      "text/plain": "<Figure size 640x480 with 1 Axes>",
      "image/png": "[encoded data removed]"
     },
     "metadata": {},
     "output_type": "display_data"
    }
   ],
   "source": [
    "curves(32,25)"
   ],
   "metadata": {
    "collapsed": false
   }
  },
  {
   "cell_type": "code",
   "execution_count": 23,
   "outputs": [],
   "source": [],
   "metadata": {
    "collapsed": false
   }
  }
 ],
 "metadata": {
  "kernelspec": {
   "display_name": "Python 3",
   "language": "python",
   "name": "python3"
  },
  "language_info": {
   "codemirror_mode": {
    "name": "ipython",
    "version": 2
   },
   "file_extension": ".py",
   "mimetype": "text/x-python",
   "name": "python",
   "nbconvert_exporter": "python",
   "pygments_lexer": "ipython2",
   "version": "2.7.6"
  }
 },
 "nbformat": 4,
 "nbformat_minor": 0
}
